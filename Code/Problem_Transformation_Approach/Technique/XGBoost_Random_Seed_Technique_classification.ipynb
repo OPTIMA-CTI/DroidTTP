{
 "cells": [
  {
   "cell_type": "code",
   "execution_count": null,
   "metadata": {
    "colab": {
     "base_uri": "https://localhost:8080/"
    },
    "executionInfo": {
     "elapsed": 19713,
     "status": "ok",
     "timestamp": 1717654523037,
     "user": {
      "displayName": "chugma official",
      "userId": "16047721375084957132"
     },
     "user_tz": -330
    },
    "id": "NqnG2E9sEjsD",
    "outputId": "db48dd84-eb15-478e-88dd-67017fade05b"
   },
   "outputs": [
    {
     "name": "stdout",
     "output_type": "stream",
     "text": [
      "Collecting scikit-multilearn\n",
      "  Downloading scikit_multilearn-0.2.0-py3-none-any.whl (89 kB)\n",
      "\u001b[2K     \u001b[90m━━━━━━━━━━━━━━━━━━━━━━━━━━━━━━━━━━━━━━━━\u001b[0m \u001b[32m89.4/89.4 kB\u001b[0m \u001b[31m1.5 MB/s\u001b[0m eta \u001b[36m0:00:00\u001b[0m\n",
      "\u001b[?25hInstalling collected packages: scikit-multilearn\n",
      "Successfully installed scikit-multilearn-0.2.0\n"
     ]
    }
   ],
   "source": [
    "!pip install scikit-multilearn"
   ]
  },
  {
   "cell_type": "code",
   "execution_count": null,
   "metadata": {
    "colab": {
     "base_uri": "https://localhost:8080/"
    },
    "executionInfo": {
     "elapsed": 7859,
     "status": "ok",
     "timestamp": 1717654592010,
     "user": {
      "displayName": "chugma official",
      "userId": "16047721375084957132"
     },
     "user_tz": -330
    },
    "id": "Es3hdv1zxbdk",
    "outputId": "d46f06a7-8733-4a01-b64f-b901616d9272"
   },
   "outputs": [
    {
     "name": "stdout",
     "output_type": "stream",
     "text": [
      "Requirement already satisfied: xgboost in /usr/local/lib/python3.10/dist-packages (2.0.3)\n",
      "Requirement already satisfied: numpy in /usr/local/lib/python3.10/dist-packages (from xgboost) (1.25.2)\n",
      "Requirement already satisfied: scipy in /usr/local/lib/python3.10/dist-packages (from xgboost) (1.11.4)\n"
     ]
    }
   ],
   "source": [
    "!pip install xgboost"
   ]
  },
  {
   "cell_type": "code",
   "execution_count": null,
   "metadata": {
    "id": "27pjnkROIZE8"
   },
   "outputs": [],
   "source": [
    "import pandas as pd\n",
    "from xgboost import XGBClassifier\n",
    "from skmultilearn.problem_transform import ClassifierChain\n",
    "from sklearn.model_selection import train_test_split\n",
    "from sklearn.metrics import (classification_report, recall_score, hamming_loss, jaccard_score,\n",
    "                             multilabel_confusion_matrix, f1_score, precision_score, accuracy_score,\n",
    "                             roc_curve, auc,zero_one_loss)\n",
    "from sklearn.preprocessing import MultiLabelBinarizer\n",
    "from sklearn.pipeline import make_pipeline\n",
    "from sklearn.multioutput import MultiOutputClassifier\n",
    "from skmultilearn.problem_transform import BinaryRelevance\n",
    "from skmultilearn.problem_transform import LabelPowerset\n",
    "from sklearn.multiclass import OneVsRestClassifier\n",
    "from skmultilearn.adapt import MLkNN\n",
    "from scipy.sparse import csr_matrix, lil_matrix\n",
    "import numpy as np\n",
    "import matplotlib.pyplot as plt"
   ]
  },
  {
   "cell_type": "code",
   "execution_count": null,
   "metadata": {
    "id": "VQ2e6AxEIqwh"
   },
   "outputs": [],
   "source": [
    "# Load the dataset\n",
    "file_path = 'Technique_Dataset.csv'\n",
    "df = pd.read_csv(file_path)"
   ]
  },
  {
   "cell_type": "code",
   "execution_count": null,
   "metadata": {
    "colab": {
     "base_uri": "https://localhost:8080/"
    },
    "executionInfo": {
     "elapsed": 397,
     "status": "ok",
     "timestamp": 1717654646836,
     "user": {
      "displayName": "chugma official",
      "userId": "16047721375084957132"
     },
     "user_tz": -330
    },
    "id": "ACc2IiNaI7ue",
    "outputId": "b33f842f-3938-4065-f223-2c98dfbd26f6"
   },
   "outputs": [
    {
     "name": "stdout",
     "output_type": "stream",
     "text": [
      "Index(['Hash Name', 'com.mp4.videodownloader.receiver.restartservicereceiver',\n",
      "       'com.dktools.liteforfb.mainactivity',\n",
      "       'com.google.android.libraries.cast.companionlibrary.remotecontrol.videointentreceiver',\n",
      "       'com.example.myapplicationtest.composesmsactivity',\n",
      "       'com.sangcall.kchtmlactivity', 'ir.ali.korosh.hakh.mainactivity',\n",
      "       'whuxyrlapwrkoxmzamujn.tpgbbryjtpo.ooegchzjunneeobe.wzymtmufclabfoxrtdhdq',\n",
      "       'sun.photoalbum1.sunservice.sun9.send.whatsupdoc.llll1j1',\n",
      "       'ehioinw.kjnt.dqpkcxd.qegehdservice',\n",
      "       ...\n",
      "       'T1533', 'T1516', 'T1406', 'T1575', 'T1637', 'T1414', 'T1513', 'T1509',\n",
      "       'T1541', 'T1517'],\n",
      "      dtype='object', length=13373)\n"
     ]
    }
   ],
   "source": [
    "# Drop the column 'Lateral Movement' from the DataFrame\n",
    "df = df.drop(columns=['T1458','T1660','T1456','T1631','T1664','T1663','T1461','T1661','T1639','T1641','T1474','T1603','T1638'])\n",
    "\n",
    "# Verify the column has been removed\n",
    "print(df.columns)"
   ]
  },
  {
   "cell_type": "code",
   "execution_count": null,
   "metadata": {
    "id": "b6PIXG-IJSt4"
   },
   "outputs": [],
   "source": [
    "# Assume the last n columns are the labels\n",
    "n_labels = 48  # replace with the actual number of label columns"
   ]
  },
  {
   "cell_type": "code",
   "execution_count": null,
   "metadata": {
    "id": "mb7M1ugLJj-Y"
   },
   "outputs": [],
   "source": [
    "# Separate features and labels\n",
    "X = df.iloc[:, 1:-n_labels]\n",
    "y = df.iloc[:, -n_labels:]"
   ]
  },
  {
   "cell_type": "code",
   "execution_count": null,
   "metadata": {
    "colab": {
     "base_uri": "https://localhost:8080/"
    },
    "executionInfo": {
     "elapsed": 375,
     "status": "ok",
     "timestamp": 1717654656979,
     "user": {
      "displayName": "chugma official",
      "userId": "16047721375084957132"
     },
     "user_tz": -330
    },
    "id": "pjoCNpEJE93f",
    "outputId": "ce9e10b1-4845-43b1-ae79-f12cbce3dc09"
   },
   "outputs": [
    {
     "name": "stdout",
     "output_type": "stream",
     "text": [
      "Sum of occurrences of '1' in each label:\n",
      " T1424     231\n",
      "T1604     262\n",
      "T1532      93\n",
      "T1404     984\n",
      "T1422    1832\n",
      "T1577      18\n",
      "T1437    2073\n",
      "T1512    1925\n",
      "T1430    1988\n",
      "T1418    1991\n",
      "T1624      18\n",
      "T1645    1018\n",
      "T1429    1982\n",
      "T1417     482\n",
      "T1481      17\n",
      "T1426    2075\n",
      "T1644    1671\n",
      "T1471      26\n",
      "T1420      65\n",
      "T1623    1170\n",
      "T1655    2004\n",
      "T1544      69\n",
      "T1643     202\n",
      "T1617      52\n",
      "T1630    1578\n",
      "T1646      87\n",
      "T1640      52\n",
      "T1398      21\n",
      "T1521    1917\n",
      "T1582     328\n",
      "T1421      66\n",
      "T1642      39\n",
      "T1409    1732\n",
      "T1616    1655\n",
      "T1636    2372\n",
      "T1407     991\n",
      "T1633     129\n",
      "T1662      10\n",
      "T1533    1962\n",
      "T1516      86\n",
      "T1406    2123\n",
      "T1575    1778\n",
      "T1637     295\n",
      "T1414      18\n",
      "T1513    1778\n",
      "T1509      23\n",
      "T1541      38\n",
      "T1517     370\n",
      "dtype: int64\n"
     ]
    }
   ],
   "source": [
    "# Sum of occurrences of '1' in each label\n",
    "label_sums = y.sum(axis=0)\n",
    "print(\"Sum of occurrences of '1' in each label:\\n\", label_sums)"
   ]
  },
  {
   "cell_type": "code",
   "execution_count": null,
   "metadata": {
    "colab": {
     "base_uri": "https://localhost:8080/"
    },
    "executionInfo": {
     "elapsed": 569,
     "status": "ok",
     "timestamp": 1717654661768,
     "user": {
      "displayName": "chugma official",
      "userId": "16047721375084957132"
     },
     "user_tz": -330
    },
    "id": "TcuUH2P4xum3",
    "outputId": "fa9ed75f-afb1-4e0b-fba4-3ebc190ca464"
   },
   "outputs": [
    {
     "data": {
      "text/plain": [
       "['T1424',\n",
       " 'T1604',\n",
       " 'T1532',\n",
       " 'T1404',\n",
       " 'T1422',\n",
       " 'T1577',\n",
       " 'T1437',\n",
       " 'T1512',\n",
       " 'T1430',\n",
       " 'T1418',\n",
       " 'T1624',\n",
       " 'T1645',\n",
       " 'T1429',\n",
       " 'T1417',\n",
       " 'T1481',\n",
       " 'T1426',\n",
       " 'T1644',\n",
       " 'T1471',\n",
       " 'T1420',\n",
       " 'T1623',\n",
       " 'T1655',\n",
       " 'T1544',\n",
       " 'T1643',\n",
       " 'T1617',\n",
       " 'T1630',\n",
       " 'T1646',\n",
       " 'T1640',\n",
       " 'T1398',\n",
       " 'T1521',\n",
       " 'T1582',\n",
       " 'T1421',\n",
       " 'T1642',\n",
       " 'T1409',\n",
       " 'T1616',\n",
       " 'T1636',\n",
       " 'T1407',\n",
       " 'T1633',\n",
       " 'T1662',\n",
       " 'T1533',\n",
       " 'T1516',\n",
       " 'T1406',\n",
       " 'T1575',\n",
       " 'T1637',\n",
       " 'T1414',\n",
       " 'T1513',\n",
       " 'T1509',\n",
       " 'T1541',\n",
       " 'T1517']"
      ]
     },
     "execution_count": 10,
     "metadata": {},
     "output_type": "execute_result"
    }
   ],
   "source": [
    "# Get label names\n",
    "label_names = y.columns.tolist()\n",
    "label_names"
   ]
  },
  {
   "cell_type": "code",
   "execution_count": null,
   "metadata": {
    "colab": {
     "base_uri": "https://localhost:8080/"
    },
    "executionInfo": {
     "elapsed": 405,
     "status": "ok",
     "timestamp": 1717654665176,
     "user": {
      "displayName": "chugma official",
      "userId": "16047721375084957132"
     },
     "user_tz": -330
    },
    "id": "WfWOGs_3Jnzw",
    "outputId": "84332583-d76c-47a9-cfc3-36209c78ceac"
   },
   "outputs": [
    {
     "name": "stdout",
     "output_type": "stream",
     "text": [
      "Features shape: (2774, 13324)\n",
      "Labels shape: (2774, 48)\n"
     ]
    }
   ],
   "source": [
    "# Display the shape of the features and labels\n",
    "print(f\"Features shape: {X.shape}\")\n",
    "print(f\"Labels shape: {y.shape}\")"
   ]
  },
  {
   "cell_type": "code",
   "execution_count": null,
   "metadata": {
    "id": "uKRQCvUyKdct"
   },
   "outputs": [],
   "source": [
    "\n",
    "# Evaluate the models\n",
    "def evaluate_model(y_test, predictions, model_name, file, random_seed):\n",
    "    file.write(f\"\\n\\n********** Random Seed: {seed} **********\\n\\n\")\n",
    "    file.write(f\"\\nEvaluating {model_name}\")\n",
    "    file.write(f\"\\nAccuracy: {accuracy_score(y_test, predictions)}\")\n",
    "    file.write(f\"\\nMacro F1 Score: {f1_score(y_test, predictions, average='macro')}\")\n",
    "    file.write(f\"\\nWeighted F1 score: {f1_score(y_test, predictions, average='weighted')}\")\n",
    "    file.write(f\"\\nMicro F1 score: {f1_score(y_test, predictions, average='micro')}\")\n",
    "    file.write(f\"\\nMacro Precision: {precision_score(y_test, predictions, average='macro')}\")\n",
    "    file.write(f\"\\nWeighted Precision: {precision_score(y_test, predictions, average='weighted')}\")\n",
    "    file.write(f\"\\nMicro Precision: {precision_score(y_test, predictions, average='micro')}\")\n",
    "    file.write(f\"\\nMacro Recall: {recall_score(y_test, predictions, average='macro')}\")\n",
    "    file.write(f\"\\nWeighted Recall: {recall_score(y_test, predictions, average='weighted')}\")\n",
    "    file.write(f\"\\nMicro Recall: {recall_score(y_test, predictions, average='micro')}\")\n",
    "    file.write(f\"\\nHamming Loss: {hamming_loss(y_test, predictions)}\")\n",
    "    file.write(f\"\\nZero One Loss: {zero_one_loss(y_test, predictions)}\")\n",
    "    file.write(f\"\\nJaccard Similarity: {jaccard_score(y_test, predictions, average='samples')}\")\n",
    "    file.write(f\"\\nClassification Report:\\n{classification_report(y_test, predictions,target_names=label_names)}\")\n",
    "    file.write(f\"\\nMultilabel Confusion Matrix:\\n{multilabel_confusion_matrix(y_test, predictions)}\")\n",
    "    file.write(\"\\n\")\n",
    "\n",
    "    print(f\"\\n\\n********** Random Seed: {seed} **********\\n\\n\")\n",
    "    print(f\"Evaluating {model_name}\")\n",
    "    print(f\"Accuracy: {accuracy_score(y_test, predictions)}\")\n",
    "    print(f\"Macro F1 Score: {f1_score(y_test, predictions, average='macro')}\")\n",
    "    print(f\"Weighted F1 score: {f1_score(y_test, predictions, average='weighted')}\")\n",
    "    print(f\"Micro F1 score: {f1_score(y_test, predictions, average='micro')}\")\n",
    "    print(f\"Macro Precision: {precision_score(y_test, predictions, average='macro')}\")\n",
    "    print(f\"Weighted Precision: {precision_score(y_test, predictions, average='weighted')}\")\n",
    "    print(f\"Micro Precision: {precision_score(y_test, predictions, average='micro')}\")\n",
    "    print(f\"Macro Recall: {recall_score(y_test, predictions, average='macro')}\")\n",
    "    print(f\"Weighted Recall: {recall_score(y_test, predictions, average='weighted')}\")\n",
    "    print(f\"Micro Recall: {recall_score(y_test, predictions, average='micro')}\")\n",
    "    print(f\"Hamming Loss: {hamming_loss(y_test, predictions)}\")\n",
    "    print(f\"Zero One Loss: {zero_one_loss(y_test, predictions)}\")\n",
    "    print(f\"Jaccard Similarity: {jaccard_score(y_test, predictions, average='samples')}\")\n",
    "    print(f\"Classification Report:\\n{classification_report(y_test, predictions,target_names=label_names)}\")\n",
    "    print(f\"Multilabel Confusion Matrix:\\n{multilabel_confusion_matrix(y_test, predictions)}\")\n",
    "    print(\"\\n\")"
   ]
  },
  {
   "cell_type": "code",
   "execution_count": null,
   "metadata": {
    "id": "NXNiMKFgx9K1"
   },
   "outputs": [],
   "source": [
    "# Define different random seeds to evaluate\n",
    "random_seeds = [42, 1433, 2396, 451, 995, 98, 262, 354, 560, 1600]"
   ]
  },
  {
   "cell_type": "code",
   "execution_count": null,
   "metadata": {
    "colab": {
     "base_uri": "https://localhost:8080/",
     "height": 211
    },
    "executionInfo": {
     "elapsed": 21,
     "status": "error",
     "timestamp": 1717682581913,
     "user": {
      "displayName": "chugma official",
      "userId": "16047721375084957132"
     },
     "user_tz": -330
    },
    "id": "GbvOhLseKgpm",
    "outputId": "c295c465-f9d6-47e3-d589-b3d17733380d"
   },
   "outputs": [],
   "source": [
    "# Open a single file to write all evaluations\n",
    "with open(\"XGBoost_model_evaluations.txt\", \"w\") as file:\n",
    "\n",
    "    for seed in random_seeds:\n",
    "\n",
    "\n",
    "        # Split the data into training and testing sets\n",
    "        X_train, X_test, y_train, y_test = train_test_split(X, y, test_size=0.2, random_state=seed)\n",
    "\n",
    "\n",
    "\n",
    "        # Binary Relevance\n",
    "        br_model = BinaryRelevance(XGBClassifier(gamma=1.679,learning_rate=0.124,max_depth=14,n_estimators=156,random_state=42))\n",
    "        br_model.fit(X_train, y_train)\n",
    "        br_predictions = br_model.predict(X_test)\n",
    "\n",
    "\n",
    "        # initialize classifier chains ClassifierChain classifier\n",
    "        chain_model = ClassifierChain(XGBClassifier(gamma=1.896,learning_rate=0.253,max_depth=12,n_estimators=54,random_state=42))\n",
    "        # Training logistic regression model on train data\n",
    "        chain_model.fit(X_train, y_train)\n",
    "        # predict\n",
    "        chain_predictions = chain_model.predict(X_test)\n",
    "\n",
    "\n",
    "\n",
    "        # Label Powerset\n",
    "        # initialize label powerset LabelPowerset classifier\n",
    "        lb_model = LabelPowerset(XGBClassifier(gamma=0,learning_rate=0.3,max_depth=6,n_estimators=100,random_state=42))\n",
    "        # train\n",
    "        lb_model.fit(X_train, y_train)\n",
    "        # predict\n",
    "        lb_predictions = lb_model.predict(X_test)\n",
    "\n",
    "\n",
    "        evaluate_model(y_test, br_predictions, \"Binary Relevance\", file, seed)\n",
    "        evaluate_model(y_test, chain_predictions, \"Classifier Chain\", file, seed)\n",
    "        evaluate_model(y_test, lb_predictions, \"Label Powerset\", file, seed)\n",
    "\n",
    "# Print path to the saved file\n",
    "print(\"Evaluations saved to XGBoost_model_evaluations.txt\")"
   ]
  }
 ],
 "metadata": {
  "accelerator": "GPU",
  "colab": {
   "gpuType": "T4",
   "provenance": [
    {
     "file_id": "11UrHqNcvjJjJSuim9YIBh_FSmqKptGj4",
     "timestamp": 1717227085216
    }
   ]
  },
  "kernelspec": {
   "display_name": "Python 3",
   "name": "python3"
  },
  "language_info": {
   "name": "python"
  }
 },
 "nbformat": 4,
 "nbformat_minor": 0
}
