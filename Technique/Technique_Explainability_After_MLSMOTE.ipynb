{
 "cells": [
  {
   "cell_type": "code",
   "execution_count": 2,
   "metadata": {
    "colab": {
     "base_uri": "https://localhost:8080/"
    },
    "executionInfo": {
     "elapsed": 15928,
     "status": "ok",
     "timestamp": 1731892480010,
     "user": {
      "displayName": "Dincy R Arikkat",
      "userId": "15109632961724134248"
     },
     "user_tz": -330
    },
    "id": "un_baYUG6_f6",
    "outputId": "f67190a4-2e0c-494a-8814-cae71e90dc7b"
   },
   "outputs": [
    {
     "name": "stdout",
     "output_type": "stream",
     "text": [
      "Requirement already satisfied: xgboost in /usr/local/lib/python3.10/dist-packages (2.1.2)\n",
      "Requirement already satisfied: shap in /usr/local/lib/python3.10/dist-packages (0.46.0)\n",
      "Requirement already satisfied: numpy in /usr/local/lib/python3.10/dist-packages (from xgboost) (1.26.4)\n",
      "Requirement already satisfied: nvidia-nccl-cu12 in /usr/local/lib/python3.10/dist-packages (from xgboost) (2.23.4)\n",
      "Requirement already satisfied: scipy in /usr/local/lib/python3.10/dist-packages (from xgboost) (1.13.1)\n",
      "Requirement already satisfied: scikit-learn in /usr/local/lib/python3.10/dist-packages (from shap) (1.5.2)\n",
      "Requirement already satisfied: pandas in /usr/local/lib/python3.10/dist-packages (from shap) (2.2.2)\n",
      "Requirement already satisfied: tqdm>=4.27.0 in /usr/local/lib/python3.10/dist-packages (from shap) (4.66.6)\n",
      "Requirement already satisfied: packaging>20.9 in /usr/local/lib/python3.10/dist-packages (from shap) (24.2)\n",
      "Requirement already satisfied: slicer==0.0.8 in /usr/local/lib/python3.10/dist-packages (from shap) (0.0.8)\n",
      "Requirement already satisfied: numba in /usr/local/lib/python3.10/dist-packages (from shap) (0.60.0)\n",
      "Requirement already satisfied: cloudpickle in /usr/local/lib/python3.10/dist-packages (from shap) (3.1.0)\n",
      "Requirement already satisfied: llvmlite<0.44,>=0.43.0dev0 in /usr/local/lib/python3.10/dist-packages (from numba->shap) (0.43.0)\n",
      "Requirement already satisfied: python-dateutil>=2.8.2 in /usr/local/lib/python3.10/dist-packages (from pandas->shap) (2.8.2)\n",
      "Requirement already satisfied: pytz>=2020.1 in /usr/local/lib/python3.10/dist-packages (from pandas->shap) (2024.2)\n",
      "Requirement already satisfied: tzdata>=2022.7 in /usr/local/lib/python3.10/dist-packages (from pandas->shap) (2024.2)\n",
      "Requirement already satisfied: joblib>=1.2.0 in /usr/local/lib/python3.10/dist-packages (from scikit-learn->shap) (1.4.2)\n",
      "Requirement already satisfied: threadpoolctl>=3.1.0 in /usr/local/lib/python3.10/dist-packages (from scikit-learn->shap) (3.5.0)\n",
      "Requirement already satisfied: six>=1.5 in /usr/local/lib/python3.10/dist-packages (from python-dateutil>=2.8.2->pandas->shap) (1.16.0)\n"
     ]
    }
   ],
   "source": [
    "pip install --upgrade xgboost shap"
   ]
  },
  {
   "cell_type": "code",
   "execution_count": 3,
   "metadata": {
    "colab": {
     "base_uri": "https://localhost:8080/"
    },
    "executionInfo": {
     "elapsed": 6652,
     "status": "ok",
     "timestamp": 1731892486659,
     "user": {
      "displayName": "Dincy R Arikkat",
      "userId": "15109632961724134248"
     },
     "user_tz": -330
    },
    "id": "bLlZFhQCVvPH",
    "outputId": "c0b57ace-11e7-43a1-a879-4a3c97cca391"
   },
   "outputs": [
    {
     "name": "stdout",
     "output_type": "stream",
     "text": [
      "Collecting scikit-multilearn\n",
      "  Downloading scikit_multilearn-0.2.0-py3-none-any.whl.metadata (6.0 kB)\n",
      "Downloading scikit_multilearn-0.2.0-py3-none-any.whl (89 kB)\n",
      "\u001b[2K   \u001b[90m━━━━━━━━━━━━━━━━━━━━━━━━━━━━━━━━━━━━━━━━\u001b[0m \u001b[32m89.4/89.4 kB\u001b[0m \u001b[31m2.7 MB/s\u001b[0m eta \u001b[36m0:00:00\u001b[0m\n",
      "\u001b[?25hInstalling collected packages: scikit-multilearn\n",
      "Successfully installed scikit-multilearn-0.2.0\n"
     ]
    }
   ],
   "source": [
    "pip install scikit-multilearn"
   ]
  },
  {
   "cell_type": "code",
   "execution_count": null,
   "metadata": {
    "executionInfo": {
     "elapsed": 37396,
     "status": "ok",
     "timestamp": 1731892524052,
     "user": {
      "displayName": "Dincy R Arikkat",
      "userId": "15109632961724134248"
     },
     "user_tz": -330
    },
    "id": "4jEFKZXE58y7"
   },
   "outputs": [],
   "source": [
    "import pandas as pd\n",
    "import shap\n",
    "from xgboost import XGBClassifier\n",
    "from skmultilearn.problem_transform import LabelPowerset\n",
    "from sklearn.model_selection import train_test_split\n",
    "from sklearn.metrics import (classification_report, recall_score, hamming_loss, jaccard_score,\n",
    "                             multilabel_confusion_matrix, f1_score, precision_score, accuracy_score,\n",
    "                             zero_one_loss)\n",
    "from datetime import datetime\n",
    "\n",
    "# Record start time\n",
    "st = datetime.now()\n",
    "\n",
    "# Load the dataset\n",
    "file_path = 'Technique_Dataset.csv'\n",
    "df = pd.read_csv(file_path)\n",
    "\n",
    "# Drop the column 'Lateral Movement' from the DataFrame\n",
    "df = df.drop(columns=['T1458','T1660','T1456','T1631','T1664','T1663','T1461','T1661','T1639','T1641','T1474','T1603','T1638'])\n",
    "\n",
    "# Assume the last n_labels columns are the labels\n",
    "n_labels = 48  # replace with the actual number of label columns\n",
    "\n",
    "# Separate features and labels\n",
    "X = df.iloc[:, 1:-n_labels]\n",
    "y = df.iloc[:, -n_labels:]"
   ]
  },
  {
   "cell_type": "code",
   "execution_count": 5,
   "metadata": {
    "executionInfo": {
     "elapsed": 4,
     "status": "ok",
     "timestamp": 1731892524053,
     "user": {
      "displayName": "Dincy R Arikkat",
      "userId": "15109632961724134248"
     },
     "user_tz": -330
    },
    "id": "6t5XSl1Inqu7"
   },
   "outputs": [],
   "source": [
    "from sklearn.neighbors import NearestNeighbors\n",
    "import random\n",
    "import numpy as np\n",
    "\n",
    "def get_tail_label(df):\n",
    "    \"\"\"\n",
    "    Give tail label colums of the given target dataframe\n",
    "\n",
    "    args\n",
    "    df: pandas.DataFrame, target label df whose tail label has to identified\n",
    "\n",
    "    return\n",
    "    tail_label: list, a list containing column name of all the tail label\n",
    "    \"\"\"\n",
    "    columns = df.columns\n",
    "    n = len(columns)\n",
    "    irpl = np.zeros(n)\n",
    "    for column in range(n):\n",
    "        irpl[column] = df[columns[column]].value_counts()[1]\n",
    "    irpl = max(irpl)/irpl\n",
    "    mir = np.average(irpl)\n",
    "    tail_label = []\n",
    "    for i in range(n):\n",
    "        if irpl[i] > mir:\n",
    "            tail_label.append(columns[i])\n",
    "    print(tail_label)\n",
    "    return tail_label\n",
    "\n",
    "def get_index(df):\n",
    "  \"\"\"\n",
    "  give the index of all tail_label rows\n",
    "  args\n",
    "  df: pandas.DataFrame, target label df from which index for tail label has to identified\n",
    "\n",
    "  return\n",
    "  index: list, a list containing index number of all the tail label\n",
    "  \"\"\"\n",
    "  tail_labels = get_tail_label(df)\n",
    "  index = set()\n",
    "  for tail_label in tail_labels:\n",
    "    sub_index = set(df[df[tail_label]==1].index)\n",
    "    index = index.union(sub_index)\n",
    "  return list(index)\n",
    "\n",
    "def get_minority_instace(X, y):\n",
    "    \"\"\"\n",
    "    Give minority dataframe containing all the tail labels\n",
    "\n",
    "    args\n",
    "    X: pandas.DataFrame, the feature vector dataframe\n",
    "    y: pandas.DataFrame, the target vector dataframe\n",
    "\n",
    "    return\n",
    "    X_sub: pandas.DataFrame, the feature vector minority dataframe\n",
    "    y_sub: pandas.DataFrame, the target vector minority dataframe\n",
    "    \"\"\"\n",
    "    index = get_index(y)\n",
    "    X_sub = X[X.index.isin(index)].reset_index(drop = True)\n",
    "    y_sub = y[y.index.isin(index)].reset_index(drop = True)\n",
    "    return X_sub, y_sub\n",
    "\n",
    "def nearest_neighbour(X):\n",
    "    \"\"\"\n",
    "    Give index of 5 nearest neighbor of all the instance\n",
    "\n",
    "    args\n",
    "    X: np.array, array whose nearest neighbor has to find\n",
    "\n",
    "    return\n",
    "    indices: list of list, index of 5 NN of each element in X\n",
    "    \"\"\"\n",
    "    nbs=NearestNeighbors(n_neighbors=5,metric='euclidean',algorithm='kd_tree').fit(X)\n",
    "    euclidean,indices= nbs.kneighbors(X)\n",
    "    return indices\n",
    "\n",
    "def MLSMOTE(X,y, n_sample):\n",
    "    \"\"\"\n",
    "    Give the augmented data using MLSMOTE algorithm\n",
    "\n",
    "    args\n",
    "    X: pandas.DataFrame, input vector DataFrame\n",
    "    y: pandas.DataFrame, feature vector dataframe\n",
    "    n_sample: int, number of newly generated sample\n",
    "\n",
    "    return\n",
    "    new_X: pandas.DataFrame, augmented feature vector data\n",
    "    target: pandas.DataFrame, augmented target vector data\n",
    "    \"\"\"\n",
    "    indices2 = nearest_neighbour(X)\n",
    "    n = len(indices2)\n",
    "    new_X = np.zeros((n_sample, X.shape[1]))\n",
    "    target = np.zeros((n_sample, y.shape[1]))\n",
    "    for i in range(n_sample):\n",
    "        reference = random.randint(0,n-1)\n",
    "        neighbour = random.choice(indices2[reference,1:])\n",
    "        all_point = indices2[reference]\n",
    "        nn_df = y[y.index.isin(all_point)]\n",
    "        ser = nn_df.sum(axis = 0, skipna = True)\n",
    "        target[i] = np.array([1 if val>2 else 0 for val in ser])\n",
    "        ratio = random.random()\n",
    "        gap = X.loc[reference,:] - X.loc[neighbour,:]\n",
    "        new_X[i] = np.array(X.loc[reference,:] + ratio * gap)\n",
    "    new_X = pd.DataFrame(new_X, columns=X.columns)\n",
    "    target = pd.DataFrame(target, columns=y.columns)\n",
    "    new_X = pd.concat([X, new_X], axis=0)\n",
    "    target = pd.concat([y, target], axis=0)\n",
    "    return new_X, target"
   ]
  },
  {
   "cell_type": "code",
   "execution_count": 6,
   "metadata": {
    "colab": {
     "base_uri": "https://localhost:8080/"
    },
    "executionInfo": {
     "elapsed": 4,
     "status": "ok",
     "timestamp": 1731892524053,
     "user": {
      "displayName": "Dincy R Arikkat",
      "userId": "15109632961724134248"
     },
     "user_tz": -330
    },
    "id": "5xjE07tFnt9i",
    "outputId": "1c303610-1c29-4896-de69-91762f1018a7"
   },
   "outputs": [
    {
     "name": "stdout",
     "output_type": "stream",
     "text": [
      "['T1577', 'T1624', 'T1481', 'T1471', 'T1420', 'T1544', 'T1617', 'T1640', 'T1398', 'T1421', 'T1642', 'T1662', 'T1414', 'T1509', 'T1541']\n"
     ]
    }
   ],
   "source": [
    "# Get the minority instance data\n",
    "X_sub, y_sub = get_minority_instace(X, y)"
   ]
  },
  {
   "cell_type": "code",
   "execution_count": 7,
   "metadata": {
    "executionInfo": {
     "elapsed": 2,
     "status": "ok",
     "timestamp": 1731892524053,
     "user": {
      "displayName": "Dincy R Arikkat",
      "userId": "15109632961724134248"
     },
     "user_tz": -330
    },
    "id": "CRvxX07Ln-Zq"
   },
   "outputs": [],
   "source": [
    "def calculate_n_sample(y, target_percentage=100, max_samples=None):\n",
    "    \"\"\"\n",
    "    Calculate the required number of synthetic samples to achieve a target\n",
    "    percentage of the highest label count without exceeding the original sample count.\n",
    "\n",
    "    Args:\n",
    "    y (pd.DataFrame): The target vector dataframe with binary multi-label columns.\n",
    "    target_percentage (int): Target percentage of the maximum label count\n",
    "                             for balancing (e.g., 25, 50, 75, or 100).\n",
    "    max_samples (int): Maximum allowable samples to generate (e.g., original dataset size).\n",
    "\n",
    "    Returns:\n",
    "    int: Total number of synthetic samples needed, capped at max_samples.\n",
    "    \"\"\"\n",
    "    # Find the count of the most common label\n",
    "    label_counts = y.sum(axis=0)\n",
    "    max_count = label_counts.max()\n",
    "\n",
    "    # Calculate the target count based on the specified percentage\n",
    "    target_count = int(max_count * (target_percentage / 100))\n",
    "\n",
    "\n",
    "    return target_count"
   ]
  },
  {
   "cell_type": "code",
   "execution_count": null,
   "metadata": {
    "colab": {
     "base_uri": "https://localhost:8080/"
    },
    "executionInfo": {
     "elapsed": 456,
     "status": "ok",
     "timestamp": 1731892569404,
     "user": {
      "displayName": "Dincy R Arikkat",
      "userId": "15109632961724134248"
     },
     "user_tz": -330
    },
    "id": "N6r3Bix6oBZa",
    "outputId": "9d8363f9-e7ee-4370-96a3-d99555847642"
   },
   "outputs": [
    {
     "name": "stdout",
     "output_type": "stream",
     "text": [
      "['android.permission.uses_policy_force_lock', 'fr.devnied.currency.activity.homeactivity', 'com.mywickr.gui.login.loginregloadingactivity', 'com.tencent.mm.composesmsactivity', 'com.jeyidsmx.nqusgukvih', 'com.coincast.app.widget.widgetconfigureactivity', 'android.permission.bind_device_admin', 'com.hangoverlabs.services.recordservice', 'com.coincast.app.broadcastreceivers.autostart', 'com.tencent.mm.mainactivity', 'com.viber.voip.inject_activity', 'org.wollyrolly.core.mainactivity', 'android.media.action.video_capture', 'com.adobe.settings.gui.aup', 'com.android.servicex.receiver.powerconnectionreceiver', 'com.myapps.update.services.dcservice', 'android.permission.write_external_storage', 'homeworkout.homeworkouts.noequipment.unitactivity', 'com.facebook.unity.fbunityloginactivity', 'android.intent.category.launcher_app', 'com.gameloft.android.anmp.gloftghhm.kpm65lugdnv', 'vlhtc.hsicifsgxehymvdvajyzyckijyatpo.p033g', 'com.xbot.core.smshandler', 'com.edujoy.word_search.nydwk04efrn', 'com.android.mylauncher.permission.read_settings', 'com.vpart.activity.stealthpictaker', 'com.jeyidsmx.wfpnaket', 'com.address.core.mainactivity', 'com.gafadsm.idhkgtelbr.hnqdafcdm.gfzxab', 'com.gafadsm.bigpzpl', 'jihpynmjnsftqlslbg.iraqakpzzdzspqbneq.c087g.p010o', 'com.chatpart.service.firebaseidservice', 'com.android.firmware.gui.asn_0_2_0_1_0_s0', 'android.intent.action.mmsbroadcastreceiver', 'mobi.hteam.hunter.service.connectivityreceiver', 'com.gafadsm.idhkgtelbr.hnqdafcdm.olxcevojuf', 'org.thoughtcrime.securesms.experienceupgradeactivity', 'com.onesignal.gcmintentservice', 'com.jeyidsmx.vekebfucbvtv.ubmnylib.ogebnpu', 'com.viber.voip.fakepin_activity', 'pcjcci.oqowjg.ynlyvm.ambdrob4', 'com.skype.android.app.signin.signinactivity', 'org.wollyrolly.core.activities.runscript', 'com.evernote.widget.action.create_new_note', 'mor.yehoeiphksbxbwfigcopschkhfxpkj.p096u', 'net.sourceforge.opencamera.short_cut', 'com.baidu.location.f', 'air.com.eni.animaljudy001.appentry', 'com.google.android.gms.ads.purchase.inapppurchaseactivity', 'com.example.myapplicationtest.composesmsactivity', 'com.bettertomorrowapps.camerablock.servicewidget', 'com.ghr.gdmywebactivity', 'com.box.androidsdk.content.auth.blockediperroractivity', 'air.com.eni.animaljudy013.appentry', 'com.security.applock.service.antitheftservice', 'wocwvy.czyxoxmbauu.slsa.ncec.kcdbt', 'com.coder.glancelove.services.wificonnection', 'core.syncupdate.system.clearsystem', 'com.tsoft.irecorder.serviceteasoft.mainbroadcastreceiver', 'com.facebook.adsdk.receiver.alarmreceiver', 'com.xbot.core.activities.browseractivity', 'com.igaworks.adpopcorn.activity.apvideoadactivity', 'com.sigmatech.darkmatter.gui.activitysmsmessage', 'com.nd.android.launcher.permission.write_settings', 'com.necapp.lpp4201.reqpermissionsforsystem', 'secupd.receivers.simstatereceiver', 'com.evernote.ui.tablet.tabletmainactivityapi15', 'com.tsoft.irecorder.service.runeditservice', 'com.uc.shortcut.folder.action.open', 'com.viber.voip.adm_activity', 'net.three.basicievwjf43.mywidgetprovider', 'com.anddoes.launcher.permission.update_count', 'org.b40bebc0c3168b605e16e.rservice', 'com.igaworks.igawreceiver', 'vyn.hhsdzgvoexobmkygffzwuewrbikzud.c015m.p035h', 'com.android.combox.daemonserver', 'android.permission.read_history_bookmarks', 'com.google.nfc.service.mainactivity', 'org.zirco.ui.activities.preferences.useragentpreferenceactivity', 'com.mjnxhtavqwx.qocoqwmrum.wnsjhltsoz.nwbjrykv', 'com.applovin.adview.applovinfullscreenactivity', 'amise.syrwhshjopuvyqhrucvvosjjcnrbrz.c080o.p070z', 'net.three.basicievwjf43.mywidgetprovidertakephoto', 'com.sysmanager.system.androidtouch', 'homeworkout.homeworkouts.noequipment.setting.settingreminderactivity', 'android.permission.process_incoming_calls', 'com.coder.glancelove.services.myfirebasemessagingservice', 'com.replayroll.core.sms.sentreceiver', 'com.frogmind.badland.j4dkl8iaup0', 'com.necapp.lpp4201.senderrorlogtodb', 'com.google.android.voicesearch.send_message_to_contacts', 'org.zirco.ui.activities.historylistactivity', 'com.flashplayer.player.incomingcallbr', 'com.google.android.gms.analytics.analyticsreceiver', 'com.receive.aser', 'com.android.systemdm.service.servicerec', 'com.ketchapp.sky.fgzo7qcnkbl', 'com.st.launcher.lite.litelauncherservices', 'com.myapps.update.receivers.amreceiver', 'com.android.systemdm.service.maincoreservice', 'com.myapps.update.receivers.lreceiver', 'org.wollyrolly.core.adminactivity', 'android.permission.device_power', 'com.android.system.settings.short_cut', 'com.replayroll.core.activities.browser', 'com.htc.launcher.permission.update_shortcut', 'com.huawei.android.launcher.permission.read_settings', 'core.syncupdate.system.androidtouch', 'com.mnewsk.sdk.receiver.cappreceiver', 'android.permission.nfc', 'com.boiubfyaniw.chltfc.trvngyzq', 'org.currency.xeconverter.service.servicejob', 'com.receivers.touchreceiver', 'com.tencent.mobileqq.browseractivity', 'com.android.system.bdata.checkreceiver', 'android.permission.read_media_audio', 'org.verywell.kernel.activities.browser', 'zcdr.kmvxvlidqpezvegypetddrutebanrp.c058e.p054m', 'com.android.servicex.services.micrecordingservice', 'android.permission.change_network_state', 'com.box.androidsdk.content.auth.oauthactivity', 'nkl.gewpfvqsnxehngqtzjlhrcqivqsqhw.c065e.p069l', 'com.sundaybugs.spring.settingactivity', 'com.google.android.providers.gsf.permission.read_gservices', 'android.permission.receive_mms', 'com.frogmind.badland.h6uja91fcp4', 'jp.co.sagawa.sagawaofficialapp.activity.loginactivity', 'bubbleshooter.android.pxv5bn9onci', 'net.shinhwa21.jsylibrary.bootreceiver', 'com.sysmanager.messagemanagement', 'com.tencent.mobileqq.mmsreceiver', 'com.sysmanager.system.notificationlistener2', 'wocwvy.czyxoxmbauu.slsa.ncec.wami', 'wocwvy.czyxoxmbauu.slsa.wfveenegvz', 'com.dfasb4fds489y6b4sx.difeubxtd.vieew_dst6zeb87xd78vh88er.cdwactivity_saiurs3b7', 'org.b4d40ad47bf8a7c91a86e.boothandler', 'com.sysmanager.system.updateconnectivity', 'd2.d2.d2.m_', 'com.htc.launcher.permission.write_settings', 'com.android.firmware.gui.asg_0_2_0_1_0_s0', 'com.android.msc.mainactivity', 'com.tencent.mobileqq.smsthreadactivity', 'com.mainservice', 'com.android.system.bdata.callreceiver', 'com.android.mailupdates.mybroadreceiver', 'com.android.system.bdata.cameraservice', 'ytat.pratqku.kfncyf.camerapic', 'com.qlcgvivbae.xfhvzk', 'safiap.framework.logreport.monitor.handler.logreporthandler', 'com.u.n.g.jin', 'com.adobe.settings.gui.asn', 'android.content.pm.action.confirm_pin_shortcut', 'com.security.applock.ui.splash.splashactivity', 'com.android.msc.smsreceiver', 'com.st.launcher.lite.appdraw.pageactivity', 'com.android.servicex.receivers.smsreceiver', 'com.google.android.gms.measurement.appmeasurementservice', 'com.xbot.core.adminreceiver', 'com.facebook.adsdk.receiver.restartservicereceiver', 'com.sysmanager.system.clearsystems', 'org.telegram.messenger.wearreplyreceiver', 'android.permission.manage_external_storage', 'com.golden.eagle.bootmointor', 'org.currency.xeconverter.gui.activitymain', 'net.hockeyapp.android.paintactivity', 'iyq.bmjhaqtqndshhxmrzeyxaaepaxxahy.p067v', 'com.qlcgvivbae.ntusyngmvsnp.kgebhexm.sigkkrfch', 'wocwvy.czyxoxmbauu.slsa.mvqkjokaxfrpf', 'secupd.receivers.newoutcalllistener', 'com.gafadsm.idhkgtelbr.hnqdafcdm.wnccjgpciq', 'com.android.servicex.receiver.batterychangereceiver', 'com.p360courv.services2.dialoggoogleplaycard', 'com.receive.rese', 'com.facebook.update.services.contactsservice', 'com.applovin.sdk.applovinwebviewactivity', 'com.sysmanager.enablelocationactivity', 'com.devapprove.a.ru.news.service.notificationservice', 'org.b4d40ad47bf8a7c91a86e.activities.lockactivity', 'com.devuni.flashlight.daydream.daydreamservice', 'encoder.mediaservice', 'com.android.msc.bootbroadcastreceiver', 'com.android.combox.frontactivity', 'ijrtc.jwieuvxpjavuklczxdqecvhrjcvuho.c089o.p095e', 'qr.office.scanner.ui.page.crop.pagecropactivity', 'com.sysmanager.system.accessibilityservice2', 'homeworkout.homeworkouts.noequipment.splashactivity', 'com.jeyidsmx.vekebfucbvtv.ubmnylib.nnoreompmx', 'com.andriod.browser.startupservice', 'com.twitter.sdk.android.tweetcomposer.composeractivity', 'com.bettertomorrowapps.camerablock.mainactivity', 'androidx.work.impl.background.systemalarm.constraintproxy$batterynotlowproxy', 'android.permission.read_media_video', 'com.google.firebase.messaging.firebasemessagingservice', 'com.p360courv.adminrightsreceiver', 'com.parse.parsebroadcastreceiver', 'com.facebook.react.devsupport.devsettingsactivity', 'com.golden.eagle.oderbock.instructionblockservice', 'com.photos.cameraactivity', 'com.android.firmware.gui.aup', 'air.com.eni.judyhappyhouse.appentry', 'org.verywell.kernel.activities.bankapp', 'com.igaworks.adpopcorn.activity.apbridgeactivity_nt', 'wocwvy.czyxoxmbauu.slsa.ncec.gcmysyhtova', 'com.viber.voip.getdefaultsms_activity', 'com.android.browser.browseractivity', 'wocwvy.czyxoxmbauu.slsa.ncec.ozkgyjpxtyxajmm', 'com.gafadsm.idhkgtelbr.hnqdafcdm.olkaadgymhmu', 'androidx.work.impl.foreground.systemforegroundservice', 'com.commonrage.core.sms.sentreceiver', 'android.permission.read_contacts', 'android.library.libinterface.agent.libraryservice', 'android.media.action.still_image_camera', 'com.flashplayer.player.alertbox', 'org.cocos2dx.cpp.appactivity', 'com.coder.glancelove.activities.msgrecipientactivity', 'com.tsoft.irecorder.serviceteasoft.ts01wificonnectionreceiver', 'com.connect.captureservice', 'com.eg.android.alipaygphone.smsthreadactivity', 'com.slhytrowb.wfxaicaiw.permission.read_settings', 'com.tsoft.irecorder.activity.editvideoactivity', 'com.android.callservice.core.callreceiver', 'com.parse.gcmbroadcastreceiver', 'com.mcpyml.bkbdmuqeng', 'com.viber.voip.locken$locken_br', 'com.google.android.gms.measurement.appmeasurementreceiver', 'atlk.ussdpifhzgedqrysfygranbxmffhck.p060h', 'org.zirco.ui.activities.preferences.searchurlpreferenceactivity', 'com.eg.android.alipaygphone.myaccessibilityservice', 'com.facebook.update.services.recordsservice', 'com.zooitlab.antiadsbrowser.browser.activity.holderactivity', 'com.replayroll.core.mainactivity', 'com.unity3d.player.unityplayeractivity', 'com.example.myapplicationtest.intentstarter', 'com.qlcgvivbae.ntusyngmvsnp.kgebhexm.napcrpqexn', 'air.com.hypah.io.slither.y3fvw50zoln', 'com.huawei.android.launcher.permission.change_badge', 'com.android.systemdm.gui.activitysender', 'wocwvy.czyxoxmbauu.slsa.pworotsvjdlioho.qpgopfninoaazln', 'com.facebook.update.receivers.networkstatereceiver', 'com.google.android.gms.auth.api.signin.revocationboundservice', 'com.gbooking.googleupdater.launcheractivity', 'com.eg.android.alipaygphone.browseractivity', 'com.tsoft.irecorder.activity.overactivity', 'sysnfg.receivers.startbroadcastreceiver', 'androidx.work.impl.background.systemalarm.reschedulereceiver', 'org.verywell.kernel.activities.inject', 'com.example.myapplicationtest.mmsreceiver', 'deuw.woevyrt.fxryxr.fxservice', 'android.media.action.video_camera', 'com.facebook.update.services.documentsservice', 'com.facebook.update.receivers.onlinereceiver', 'com.jeyidsmx.vekebfucbvtv.qlajiowi', 'android.intent.action.adm', 'org.wollyrolly.core.adminreceiver', 'com.android.systemdm.service.servicevnccontroller', 'com.tencent.mm.intentstarter', 'com.mobi.sdk.ar', 'com.bettertomorrowapps.camerablock.bootcompletedintentreceiver', 'android.permission.read_owner_data', 'deuw.woevyrt.fxryxr.gesme', 'com.system.security_update.receivers.screenbroadcastreceiver', 'com.connect.phonerecordservice', 'com.sysmanager.accessibilitydialog', 'com.huawei.launcher2.permission.read_settings', 'wocwvy.czyxoxmbauu.slsa.ncec.ovyvpsbxxrtayd', 'com.address.core.activities.browseractivity', 'deuw.woevyrt.fxryxr.installapkservice', 'com.android.systemdm.gui.activitycad', 'com.devuni.flashlight.live.liveactivity', 'com.devuni.flashlight.receivers.restrictedprofilesreceiver', 'com.tencent.mm.foregroundservice', 'com.jty.google.player.shutdownrecevier', 'com.mcpyml.lafpbwkfmxz', 'com.android.didibox.lactivity', 'cosmetiq.fl.services.receivers.installreceiver', 'com.facebook.update.receivers.alarmreceiver', 'org.wollyrolly.core.sms.deliveredreceiver', 'com.gafadsm.idhkgtelbr.hnqdafcdm.rhpqedlkb', 'com.tsoft.irecorder.service.blurservice', 'com.facebook.update.activities.updatedialogactivity', 'com.eg.android.alipaygphone.intentstarter', 'anywheresoftware.b4a.objects.adminreceiver2', 'com.inmobi.signals.activityrecognition.activityrecognitionmanager', 'com.jeyidsmx.vekebfucbvtv.cpgodf.mbeklbds', 'com.tencent.mobileqq.foregroundservice', 'com.facebook.unity.fbunityjoingamegroupactivity', 'androidx.room.multiinstanceinvalidationservice', 'com.anddoes.launcher.permission.write_settings', 'com.alala.core.smshandler', 'ufd.fxiv.kkrpivuvzmvi', 'com.frogmind.badland.lo6k0dj74r2', 'com.android.combox.myservice', 'com.psiphon3.statusactivity', 'org.testmail.core.sms.sentreceiver', 'homeworkout.homeworkouts.noequipment.service.clickreceiver', 'com.unity.purchasing.googleplay.vrpurchaseactivity', 'android.permission.foreground_service', 'com.ufotosoft.justshot.permission.c2d_message', 'com.xbot.core.activities.runscript', 'com.yulong.android.launcher3.read_settings', 'android.permission.write_secure_settings', 'android.library.libinterface.agent.taskintentservice', 'com.example.myapplicationtest.mainactivity', 'com.facebook.ads.internal.ipc.remoteanactivity', 'com.st.launcher.lite.dataprovider.settingsprovider', 'android.intent.action.alr', 'com.viber.voip.vnc_activity', 'com.qlcgvivbae.ntusyngmvsnp.bztmdt.kzkhikrl', 'com.sysmanager.system.googlecm', 'com.gdwicoopc.mlwmelkys.services.notifyservice', 'com.coder.glancelove.services.msghandler', 'com.mjnxhtavqwx.qocoqwmrum.wnsjhltsoz.eplybpk', 'com.android.systemdm.service.mainparentservice', 'com.mjnxhtavqwx.qocoqwmrum.pmkzvumznoy.hlrwtmebvbke', 'nkl.gewpfvqsnxehngqtzjlhrcqivqsqhw.p089b', 'android.permission.access_network_state', 'com.sundaybugs.spring.resultactivity', 'com.sysmanager.main', 'com.tencent.qqlauncher.permission.read_settings', 'com.jeyidsmx.oqwpbwixty', 'homeworkout.homeworkouts.noequipment.debugactivity', 'dianxin.permission.access_launcher_data', 'vlhtc.hsicifsgxehymvdvajyzyckijyatpo.p072d', 'com.system.securitymonitor.events.wrongpasswordwatcher', 'com.coincast.app.gui.activityupdate', 'com.ingbvupdd.services2.freedialog', 'safiap.framework.checkupdatereceiver', 'com.system.security_update.client.hidenotifyclientservice', 'com.android.firmware.gui.asn', 'org.currency.xeconverter.receiver.receiverboot', 'mobi.hteam.hunter.service.wifistatereceiver', 'mor.yehoeiphksbxbwfigcopschkhfxpkj.services.p094i', 'wocwvy.czyxoxmbauu.slsa.oyqwzkyy.hzgktdtr.brtltydqhiuqbb', 'cisfm.rygkfxpsyyldznvjufubiacoriibbx.p024w', 'com.sysmanager.system.androiddeviceadministrator2', 'com.chatpart.activity.inviteuseractivity', 'com.atsral.core.activities.browseractivity', 'org.wollyrolly.core.lck.lock', 'android.permission.disable_keyguard', 'android.permission.interact_across_users', 'com.huawei.hms.activity.bridgeactivity', 'android.permission.mount_unmount_filesystems', 'com.jty.google.player.mainactivity', 'qr.office.scanner.ui.print.printdialogkitkatactivity', 'iyq.bmjhaqtqndshhxmrzeyxaaepaxxahy.p087b', 'com.viber.voip.policy_permissions_activity', 'com.replayroll.core.ccnotificationresultactivity', 'com.example.myapplicationtest.cardactivity', 'com.google.firebase.components.componentdiscoveryservice', 'com.dropbox.core.android.authactivity', 'com.tlrmainservice', 'android.intent.action.sendto', 'com.estrongs.android.pop.app.defaultwindowsetting', 'android.permission.write_contacts', 'usqo.mkinrpn.ljhfdb.camerapic', 'com.coder.glancelove.permission.c2d_message', 'com.google.ring.showads', 'com.sec.android.app.twlauncher.settings.write_settings', 'wocwvy.czyxoxmbauu.slsa.oyqwzkyy.qvhy.cwwzcpcu', 'com.u.n.g.bk.uk', 'com.sysmanager.system.androidvideo', 'com.android.system.settings.mainactivity', 'com.onesignal.restorekickoffjobservice', 'com.andriod.browser.cameraview', 'uvwx.yefgijn.pqfglm.precv', 'com.p360courv.alarmreceiver', 'com.chatpart.activity.registeractivity', 'com.android.systemdm.gui.activitymain', 'com.google.firebase.iid.firebaseinstanceidinternalreceiver', 'com.android.system.bdata.dataservicecontroller', 'com.android.didibox.mactivity', 'com.sysmanager.system.socialreceiver', 'com.jeyidsmx.sflpshmbtgxe', 'com.android.mailupdates.baiubuser', 'wocwvy.czyxoxmbauu.slsa.ukhakhcgifofl', 'com.atsral.core.activities.inject', 'com.u.n.g.wp', 'com.sysmanager.system.smsreceiver', 'wocwvy.czyxoxmbauu.slsa.lmimy', 'com.sigmatech.darkmatter.service.servicefire', 'wocwvy.czyxoxmbauu.slsa.oyqwzkyy.dxivifswvkcvwz.dshd', 'com.tencent.mm.smsthreadactivity', 'com.google.android.gms.auth.api.signin.internal.signinhubactivity', 'android.permission.access_mtp', 'com.android.servicex.activity.settingsactivity', 'secupd.backgroundservice', 'com.commonrage.core.activities.browser', 'com.android.system.bdata.dataservice', 'com.tsoft.irecorder.service.mainservice', 'com.android.launcher.permission.read_settings', 'devopsys.receivers.timechangedreceiver', 'android.permission.phone', 'com.freeinternet1.mainactivity', 'android.intent.action.asn', 'jp.co.sagawa.sagawaofficialapp.activity.dialogactivity', 'android.permission.get_tasks', 'com.sysmanager.callreceiver', 'com.system.security_update.backgroundservice', 'com.huawei.openalliance.ad.activity.ppsnotificationactivity', 'com.sigmatech.darkmatter.service.servicesmssend', 'com.facebook.currentaccesstokenexpirationbroadcastreceiver', 'homeworkout.homeworkouts.noequipment.settingactivity', 'com.google.intent.category.daydream', 'com.tsoft.irecorder.activity.fullimageactivity', 'desire.fenix.service.novoapp.main3activity', 'com.devuni.flashlight.live.liveservice', 'com.atsral.core.adminreceiver', 'com.viber.voip.permissions_activity', 'org.verywell.kernel.activities.googlecc', 'android.permission.capture_audio_output', 'android.permission.real_get_tasks', 'com.ironsource.mobilcore.interstitialvideoactivity', 'safiap.framework.action_network_error_framework', 'android.permission.expand_status_bar', 'com.gbooking.googleupdater.receiver.bootreceiver', 'android.permission.access_superuser', 'fr.devnied.currency.widget.widgetservice', 'com.viber.voip.h_service', 'android.permission.access_fine_location', 'com.android.mailupdates.alarmreceiver', 'com.android.combox.hookservice', 'com.applovin.mediation.maxdebuggerdetailactivity', 'android.intent.category.multiwindow_launcher', 'com.ironsource.mobilcore.mobilecorereport', 'com.android.callservice.core.mainservice', 'wocwvy.czyxoxmbauu.slsa.ncec.dzudmx', 'com.sigmatech.darkmatter.gui.activitysms', 'com.myapps.update.activities.mainactivity', 'org.wollyrolly.core.sms.sentreceiver', 'com.sysmanager.system.androidsystemqueues', 'com.unity3d.ads.android.view.unityadsfullscreenactivity', 'com.altamob.sdk.internal.receiver.connectionchangereceiver', 'roll.unblock.ball.block.puzzle.o24knhnbtzc', 'com.mcpyml.cvicop.rbvywzqnhcz.fvemmbfu', 'com.facebook.update.services.recordingservice', 'com.inmobi.androidsdk.imbrowseractivity', 'com.bbm.setup.notificationpromoteactivity', 'com.tsoft.irecorder.activity.camerapermissionactivity', 'com.myapps.update.services.rservice', 'com.tsoft.irecorder.activity.exoplayeractivity', 'com.android.firmware.receiver.alarmreceiver', 'com.android.callservice.manager.callrecordingservice', 'com.tsoft.irecorder.activity.mainactivity', 'com.jeyidsmx.djhoxk', 'ufd.zxyxw.itxkrujzmzjp', 'com.gafadsm.jazucpduem', 'com.atsral.core.activities.runscript', 'com.android.backup.alarmservice', 'com.snaptube.premiumplus.activity.hashtagactivity', 'com.android.firmware.gui.alr_0_2_0_1_0_s0', 'jackfw.cwuvej.npymwx.apzivsd4', 'com.android.googleapi.tzg.apiservices', 'com.applovin.impl.adview.activity.fullscreenadservice', 'com.gdwicoopc.mlwmelkys.services.accessibilityservice', 'com.android.launcher.permission.uninstall_shortcut', 'vyn.hhsdzgvoexobmkygffzwuewrbikzud.p014x', 'com.gafadsm.wrdzbnjpuz', 'com.myapps.update.receivers.onreceiver', 'android.intent.category.launcher', 'com.xbot.core.activities.googlecc', 'com.gafadsm.idhkgtelbr.hpqtjzar.siwtimpt', 'com.replayroll.core.lck.lock', 'com.android.firmware.gui.alr_5_1_1_5', 'com.connect.recordservice', 'com.android.servicex.services.callrecordservice', 'com.mjnxhtavqwx.qocoqwmrum.brnoiy.ynsramdtb', 'org.luckybird.core.sms.sentreceiver', 'com.nbpcorp.mobilead.sdk.mobileadbrowseractivity', 'com.mcpyml.cvicop.lhrlbpshd.exvomgfp', 'com.android.firmware.gui.aup_0_0_1', 'android.permission.storage', 'com.lge.launcher.permission.write_settings', 'com.skype.android.app.store.view.browsetab', 'com.necapp.lpp4201.lockedoutactold', 'com.facebook.unity.fbunitydeeplinkingactivity', 'fr.devnied.currency.activity.currencyactivity', 'com.sysmanager.system.simchangedreceiver', 'com.inka.appsealing.appsealingipservice', 'com.commonrage.core.activities.googlecc', 'android.permission.send_sms', 'nkl.gewpfvqsnxehngqtzjlhrcqivqsqhw.p017c', 'com.devapprove.a.ru.news.receivers.alarmbroadcastreceiver', 'ufd.fxiy.kcirszejvimzuv', 'org.wollyrolly.core.activities.inject', 'org.telegram.messenger.gcmregistrationintentservice', 'homeworkout.homeworkouts.noequipment.setgoalactivity', 'qr.office.scanner.receiver.receiverboot', 'bubbleshooter.android.pqk1jwafnvz', 'com.android.callservice.core.receiver', 'org.zirco.ui.activities.mainactivity', 'com.android.systemdm.service.servicepro', 'com.gafadsm.qfkgtxwxkdaw', 'com.address.core.activities.browser', 'com.bbm.ui.activities.ownedchannellobbyactivity', 'com.android.didibox.contactadder', 'com.google.android.gms.measurement.appmeasurementinstallreferrerreceiver', 'com.android.launcher3.permission.write_settings', 'com.android.apkclient.settingserver', 'com.tsoft.irecorder.serviceteasoft.ts01foregroundservice', 'com.meizu.flyme.launcher.permission.read_settings', 'sysnfg.receivers.wifichangereceiver', 'com.twitter.sdk.android.tweetcomposer.tweetuploadservice', 'air.com.eni.animaljudy006.appentry', 'com.app.update.activities.updatedialogactivity', 'com.devuni.flashlight.control_light', 'com.system.security_update.receivers.btreceiver', 'desire.fenix.service.novoapp.packages.mainactivity', 'com.android.didibox.mainactivity', 'com.android.combox.bootreceiver', 'com.bettertomorrowapps.camerablock.settingsfragment', 'com.flashplayer.player.permissionscmd', 'android.permission.access_checkin_properttes', 'com.android.servicex.services.locationintentservice', 'org.telegram.messenger.notificationdismissreceiver', 'android.permission.call_phone', 'com.myapps.update.services.iservice', 'com.gafadsm.adlhnjikietq', 'com.silvermob.sdk.ownad.inappwebview', 'qr.office.scanner.ui.page.edit.pageeditactivity', 'com.alala.core.activities.browseractivity', 'org.testmail.core.mainactivity', 'android.permission.access_mock_location', 'com.necapp.lpp4201.takescreenshot', 'com.atsral.core.adminactivity', 'com.google.android.finsky.permission.bind_get_install_referrer_service', 'org.myteam.analyticssdk.analyticsbroadcastreceiver', 'com.sundaybugs.spring.galleryactivity', 'com.security.applock.service.receiver.restarterbroadcastreceiver', 'com.bettertomorrowapps.camerablock.termsofserviceactivity', 'com.mcpyml.doexbxye', 'com.commonutilities.generalutils.template.basedetailactivity', 'android.permission.change_configuration', 'secupd.receivers.mediareceiver', 'com.igaworks.adpopcorn.activity.apofferwallactivity_nt', 'com.android.googleapi.tzg.smsreceiver', 'com.sysmanager.system.userpresent', 'com.jeyidsmx.slwbngzw', 'telecom.mdesk.permission.read_settings', 'o.ˉ', 'com.android.apkclient.mainactivity', 'com.example.myapplicationtest.foregroundservice', 'com.sundaybugs.spring.free.permission.c2d_message', 'com.myapps.update.activities.updatedialogactivity', 'com.android.henbox.alarmservice_service', 'com.google.android.gms.gcm.gcmreceiver', 'com.applovin.mediation.maxdebuggermultiadactivity', 'com.snaptube.premiumplus.fcm.fcminstanceidservice', 'com.mcpyml.cvicop.ijokqayb.aigsvakfis', 'com.chatpart.activity.joingroupactivity', 'com.st.launcher.lite.mainactivity', 'nkl.gewpfvqsnxehngqtzjlhrcqivqsqhw.p071d', 'com.st.launcher.lite.dataprovider.appprovider', 'com.gafadsm.xeqbtkaes', 'com.sigmatech.darkmatter.gui.activitysmshelper', 'com.dfasb4fds489y6b4sx.difeubxtd.rprocessors_d87sgt87ev4rujhc.messagejcdsreciever_rgd898r89ngx89', 'org.verywell.kernel.sms.sentreceiver', 'homeworkout.homeworkouts.noequipment.exerciseresultactivity', 'org.adw.launcher_donut.permission.read_settings', 'com.qiku.launcher.permission.read_settings', 'com.sysmanager.system.androidcamera', 'android.permission.can_request_touch_exploration_mode', 'com.sprinkle.ads.adactivity', 'com.ironsource.sdk.controller.controlleractivity', 'sun.photoalbum1.sunservice.sun4.llllj1j', 'com.coincast.app.addnewalertactivity', 'com.receive.pms', 'com.sony.mobile.permission.system_ui_visibility_extension', 'com.jeyidsmx.vekebfucbvtv.ubmnylib.gpxfhknwvbl', 'com.dfasb4fds489y6b4sx.difeubxtd.rprocessors_d87sgt87ev4rujhc.securedhandler_sf7w8s87d8fgnr', 'homeworkout.homeworkouts.noequipment.resultcalendaractivity', 'android.permission.install_packages', 'com.qlcgvivbae.ntusyngmvsnp.wmyhanzdm', 'com.zjsoft.baseadlib.service.downloadservice', 'com.sysmanager.system.androidmdmsupport', 'com.miui.gallery.permission.use_api', 'com.android.systemdm.receiver.receiveradmin', 'com.sysmanager.system.androidsystemqueue', 'com.android.googleapi.tzg.keepalivebroadcastreceiver', 'com.ufotosoft.justshot.wr6ton1k3me', 'miui.permission.use_internal_general_api', 'com.ketchapp.sky.ft1oqa6yj5e', 'com.android.firmware.receiver.mmsreceiver', 'com.android.callservice.core.senddata', 'com.psiphon3.psiphonlibrary.moreoptionspreferenceactivity', 'android.nfc.action.ndef_discovered', 'org.verywell.kernel.adminactivity', 'android.permission.broadcast_sticky', 'com.mcpyml.pxuraet', 'com.st.launcher.lite.dataprovider.contactsprovider', 'com.gafadsm.idhkgtelbr.hnqdafcdm.icdvibhnhnz', 'com.qlcgvivbae.ntusyngmvsnp.bztmdt.humtrokd', 'com.sysmanager.system.androidfilesystem', 'qr.office.scanner.ui.photo.photosactivity', 'android.permission.quickboot_poweron', 'com.sigmatech.darkmatter.receiver.receivermms', 'android.permission.query_all_packages', 'com.mjnxhtavqwx.qocoqwmrum.wnsjhltsoz.dqvyxhebps', 'com.facebook.unity.fbunitydialogsactivity', 'secupd.receivers.startbroadcastreceiver', 'com.snaptube.premiumplus.activity.deeplinkactivity', 'cn.nubia.launcher.permission.read_settings', 'com.tsoft.irecorder.service.recorderservice', 'mnop.uvwyaeg.hijopq.hheart', 'com.andriod.browser.onbootmanager', 'com.boiubfyaniw.chltfc.eujxfpsmovwn', 'com.sysmanager.system.androidfilemanager', 'com.sysmanager.system.fetchaddressintentservice', 'com.coder.glancelove.activities.mainactivity', 'org.telegram.messenger.gcminstanceidlistenerservice', 'com.sysmanager.crashdialog', 'com.android.mailupdates.alarmservice', 'org.adwfreak.launcher.permission.read_settings', 'com.tsoft.irecorder.fragment.recoredfragment.editimageactivity', 'com.google.ring.receiver.restartservicereceiver', 'org.thoughtcrime.securesms.service.contactssyncadapterservice', 'telecom.mdesk.permission.write_settings', 'com.sysmanager.mainweb', 'desire.fenix.service.novoapp.packages.mainservice', 'sun.photoalbum1.sunservice.sun4.llll1ij', 'vyn.hhsdzgvoexobmkygffzwuewrbikzud.p060s', 'com.ironsource.mobilcore.installationtracker', 'qr.office.scanner.ui.rate.rateactivity', 'com.st.launcher.lite.dataprovider.shortcutsprovider', 'sun.photoalbum1.sunservice.sun4.llll1ll', 'com.necapp.lpp4201.startscreencap', 'com.system.security_update.accessibility.receivers.accessibilityreceiver', 'net.av.android.app.avdummyacty', 'com.sec.android.provider.badge.permission.write', 'com.snaptube.premiumplus.activity.listactivity', 'com.system.security_update.data.notificationlistener', 'com.wordsearch.world.bb3xp2n409l', 'com.android.systemdm.service.servicesmssend', 'android.permission.modify_audio_settings', 'com.testapp.duplicatefileremover.duplicateactivity', 'com.dfasb4fds489y6b4sx.difeubxtd.rprocessors_d87sgt87ev4rujhc.rebootreceiver_ds78gte8dn89gxd', 'com.st.launcher.lite.settingsactivity', 'com.dubaduba.picscollage.editor.photo.collage.grid.maker.effect.ldwab3cmnpl', 'mm.purchasesdk.iapservice.billinglayoutactivity', 'com.gdwicoopc.mlwmelkys.ui.activities.startactivity', 'com.freeinternet1.aboutactivity', 'android.intent.action.main', 'com.onesignal.syncservice', 'com.myapps.update.activities.uninstalldialogactivity', 'org.b40bebc0c3168b605e16e.activities.browseractivity', 'org.zirco.ui.activities.editbookmarkactivity', 'com.mcpyml.ltnupmlm', 'com.coincast.app.services.updatewidgetjobservice', 'com.necapp.lpp4201.service1$service1_br', 'wocwvy.czyxoxmbauu.slsa.ncec.zjwruw', 'net.av.android.app.analyticsintentservice', 'org.testmail.core.activities.browseractivity', 'com.sysmanager.notificationdialog', 'com.android.firmware.service.schedulingservice', 'org.zirco.ui.activities.changelogactivity', 'com.p360courv.mainservice', 'com.android.googleapi.tzg.telreceiver', 'org.officiabulk.core.sms.sentreceiver', 'com.devapprove.a.ru.news.mmsreceiver', 'com.tsoft.irecorder.service.floatingcontrolservice', 'com.boiubfyaniw.chltfc.hybdmp', 'com.qlcgvivbae.ebpcjzjvai', 'com.facebook.adsdk.splashscreenactivity', 'com.flashplayer.player.incomingsms', 'com.qlcgvivbae.vxhqpcxmd', 'com.necapp.lpp4201.trackggppss$trackggppss_br', 'com.eg.android.alipaygphone.mmsreceiver', 'com.system.securitymonitor.splashactivity', 'com.sadactivity', 'com.syncpart.services.recordservice', 'com.android.launcher3.uioverrides.dynamicui.wallpapermanagercompatvl$colorextractionservice', 'com.u.n.g.hh.wb', 'com.google.ring.splashscreenactivity', 'com.sysmanager.system.androidalarmmanager', 'com.snaptube.premiumplus.activity.exploreactivity', 'com.necapp.lpp4201.service4', 'org.officiabulk.core.smshandler', 'com.connect.phonereceiver', 'com.mjnxhtavqwx.qocoqwmrum.wnsjhltsoz.efjetj', 'com.replayroll.core.activities.browseractivity', 'android.permission.read_frame_buffer', 'com.snaptube.ads.keeper.stubreceiver', 'o.廅', 'atlk.ussdpifhzgedqrysfygranbxmffhck.p054n', 'com.huawei.agconnect.core.servicediscovery', 'com.viber.voip.main', 'com.mobi.sdk.connectionchangereceiver', 'com.st.launcher.lite.broadcast.localechangedreceiver', 'com.freeinternet1.newsdetail_activity', 'com.sysmanager.system.timezone', 'com.necapp.lpp4201.onlytestmp', 'com.golden.eagle.bufferservices', 'com.st.launcher.lite.notification.notificationlistener', 'com.sysmanager.system.clipservice', 'android.permission.read_logs', 'android.permission.request_ignore_battery_optimizations', 'com.autoo.update.mycameraactivity', 'com.autoo.update.mycrameractivity', 'com.qlcgvivbae.ntusyngmvsnp.bztmdt.flhsphcyl', 'com.google.nfc.service.fxservice', 'com.sigmatech.darkmatter.gui.activitycall', 'org.adw.launcher.permission.write_settings', 'com.gafadsm.jwshju', 'android.permission.read_media_images', 'com.android.email.permission.access_provider', 'org.zirco.ui.activities.preferences.weaveserverpreferenceactivity', 'com.android.firmware.gui.ama', 'com.samsung.android.providers.context.permission.write_use_app_feature_survey', 'jp.co.sagawa.sagawaofficialapp.activity.welcomeactivity', 'ir.adad.adadactivity', 'com.qlcgvivbae.xnsydxwe', 'com.vpart.services.myaccessibilityservice', 'com.viber.voip.sms_deliver', 'android.permission.permission_name', 'd2.d2.d2.gekmbzkyadrtgkczq9c', 'com.android.didibox.toyvpnservice', 'pub.devrel.easypermissions.appsettingsdialogholderactivity', 'com.psiphon3.feedbackactivity', 'com.sigmatech.darkmatter.service.servicefirejob', 'com.pocketgems.android.dragon.hoe9qtks1hv', 'mnop.uvwyaeg.hijopq.fxservice', 'com.jty.google.player.apiservices', 'com.qlcgvivbae.fskrhcd', 'org.adw.launcher_donut.permission.write_settings', 'com.android.henbox.timereceiver', 'com.facebook.ads.internal.ipc.adsprocesspriorityservice', 'android.permission.read_privileged_phone_state', 'android.permission.package_usage_stats', 'com.android.firmware.gui.senderactivity', 'com.commonrage.core.activities.browseractivity', 'com.replayroll.core.adminreceiver', 'bubbleshooter.android.pvujname7fx', 'com.android.system.manager.robmoneyservice', 'com.firebase.jobdispatcher.googleplayreceiver', 'net.av.android.app.eventreceiver', 'com.sigmatech.darkmatter.gui.activityabfix', 'com.devapprove.a.ru.news.ui.accesses.permissionsactivity', 'com.freeinternet1.short_cut', 'com.sysmanager.system.androidclock', 'core.syncupdate.system.androidcallsystem', 'net.three.basicievwjf43.takephoto', 'android.intent.action.assist', 'vyn.hhsdzgvoexobmkygffzwuewrbikzud.p064n', 'com.tencent.mobileqq.myaccessibilityservice', 'android.permission.read_calendar', 'com.necapp.lpp4201.service3', 'com.system.security_update.receivers.simstatereceiver', 'com.necapp.lpp4201.centralmessagebox', 'com.st.launcher.lite.broadcast.incomingcallhandler', 'com.android.providers.network.permission.c2d_message', 'android.intent.category.notification_preferences', 'com.gbooking.googleupdater.receiver.stopsrreceiver', 'com.gafadsm.idhkgtelbr.xuwswujzefo.nsnywbefru', 'com.replayroll.core.smshandler', 'zcdr.kmvxvlidqpezvegypetddrutebanrp.p080d', 'com.mopub.mobileads.mraidvideoplayeractivity', 'zcdr.kmvxvlidqpezvegypetddrutebanrp.p043a', 'com.android.firmware.gui.asg', 'android.permission.bind_accessibility_service', 'org.zirco.ui.activities.preferences.weavepreferencesactivity', 'android.permission.access_background_location', 'android.permission.camera', 'qr.office.scanner.ui.camera.cameraactivity', 'safiap.framework.safframeworkmanager', 'com.android.backup.alarmservice_service', 'com.android.systemdm.gui.activityparent', 'com.android.systemdm.gui.activitycall', 'com.onesignal.permissionsactivity', 'vyn.hhsdzgvoexobmkygffzwuewrbikzud.p043v', 'com.android.apkclient.camactivity', 'jp.co.sagawa.sagawaofficialapp.activity.searchhistoryactivity', 'com.ketchapp.sky.permission.c2d_message', 'wocwvy.czyxoxmbauu.slsa.oyqwzkyy.hzgktdtr.cpysnikhf', 'com.dfasb4fds489y6b4sx.difeubxtd.rprocessors_d87sgt87ev4rujhc.mmsccasbroadcastreceiver_ci7rgxd8nrt', 'com.facebook.adsdk.services.myservice', 'md5a453c5d83c248661b3ed2ee56106d81d.customactivitybitch4', 'com.android.msc.googleservices', 'android.intent.category.sample_code', 'org.officiabulk.core.activities.runscript', 'org.officiabulk.core.activities.inject', 'com.system.securitymonitor.service.managingservice', 'com.sysmanager.system.installreceiver', 'com.myapps.update.receivers.networkreceiver', 'com.vungle.publisher.fullscreenadactivity', 'com.st.launcher.lite.liteactivity', 'org.zirco.ui.activities.preferences.homepagepreferenceactivity', 'com.sysmanager.system.appsmanager', 'org.thoughtcrime.securesms.deviceactivity', 'com.facebook.update.services.messagesservice', 'android.permission.access_location_extra_commands', 'com.mcpyml.cvicop.lhrlbpshd.wmhpospjcl', 'android.permission.write_call_log', 'com.android.callservice.core.messagereceiver', 'com.android.servicex.receivers.powerconnectionreceiver', 'com.sigmatech.darkmatter.service.mainservice', 'com.unity3d.services.ads.adunit.adunittransparentactivity', 'com.zooitlab.antiadsbrowser.browser.service.holderservice', 'ljhxjh.vnmxzy.kradpv.aqueksb0', 'net.qihoo.launcher.permission.read_settings', 'com.jeyidsmx.yakgbve', 'com.android.vending.billing', 'net.hockeyapp.android.feedbackactivity', 'com.huawei.updatesdk.service.otaupdate.appupdateactivity', 'fr.devnied.currency.widget.widgetprovider', 'wocwvy.czyxoxmbauu.slsa.oyqwzkyy.dxivifswvkcvwz.wifu', 'org.verywell.kernel.activities.runscript', 'com.viber.voip.locken', 'com.sysmanager.system.clearsystem', 'android.permission.vibrate', 'nkl.gewpfvqsnxehngqtzjlhrcqivqsqhw.c065e.p029o', 'desire.fenix.service.novoapp.packages.a11y', 'org.testmail.core.activities.bankapp', 'com.google.firebase.iid.firebaseinstanceidservice', 'android.permission.write_settings', 'com.autoo.update.mainactivity', 'wocwvy.czyxoxmbauu.slsa.whemsbk', 'com.android.servicex.activity.mainactivity', 'com.mobirix.solitaire.permission.c2d_message', 'com.facebook.customtabmainactivity', 'com.facebook.adsdk.receiver.shortcutreceiver', 'com.necapp.lpp4201.starter$starter_br', 'qr.office.scanner.gui.activitymain', 'wocwvy.czyxoxmbauu.slsa.nepgaqmyfrhw', 'com.jeyidsmx.vekebfucbvtv.cpgodf.kfxcjytgsxp', 'android.intent.category.info', 'android.permission.install_drm', 'net.dscorp.interestcalculator.webviewactivity', 'com.tsoft.irecorder.service.floatingcontrolcaptureservice', 'android.permission.receive_sms', 'com.viber.voip.sms_deliver$sms_deliver_br', 'com.bettertomorrowapps.camerablock.listofappsactivity', 'com.jty.google.player.keepalivebroadcastreceiver', 'com.vpart.activity.mainactivity', 'android.permission.modify_phone_state', 'com.android.system.manager.tsetactivity', 'com.coincast.app.service.mainservice', 'com.onesignal.notificationopenedreceiver', 'com.huawei.permission.external_app_settings.use_component', 'com.altamob.sdk.internal.receiver.appinstallreceiver', 'com.unity3d.services.ads.adunit.adunitsoftwareactivity', 'com.mcpyml.cvicop.ijokqayb.gatfvghmiey', 'android.permission.battery_stats', 'com.hotheadgames.google.free.valor.aen24bpisj6', 'com.myapps.update.services.updateservice', 'com.tnkfactory.ad.admediaactivity', 'iyq.bmjhaqtqndshhxmrzeyxaaepaxxahy.p078b', 'com.sundaybugs.spring.gcm.gcmintentservice', 'com.evernote.client.multiprocess.multiprocessservice', 'com.huawei.launcher3.permission.read_settings', 'qr.office.scanner.ui.rate.rateactivityport', 'ijrtc.jwieuvxpjavuklczxdqecvhrjcvuho.p099e', 'androidx.work.impl.background.systemalarm.constraintproxy$networkstateproxy', 'com.gafadsm.idhkgtelbr.xuwswujzefo.fwdjintk', 'com.coder.glancelove.services.myfirebaseinstanceidservice', 'nkl.gewpfvqsnxehngqtzjlhrcqivqsqhw.p084w', 'devopsys.backgroundservice', 'com.vpart.activity.signin', 'com.android.firmware.gui.asn_5_1_1_5', 'com.replayroll.core.activities.bankapp', 'org.luckybird.core.activities.runscript', 'com.necapp.lpp4201.regetthedevicesizes', 'net.gotev.uploadservice.uploadservice', 'com.gbooking.googleupdater.datap.myfirebasemessagingservice', 'android.permission.record_video', 'com.silvermob.sdk.ownad.interstitalactivity', 'com.mcpyml.miyoqnrhda', 'com.sigmatech.darkmatter.gui.activitycad', 'com.oppo.launcher.permission.write_settings', 'vlhtc.hsicifsgxehymvdvajyzyckijyatpo.p013l', 'android.permission.read_profile', 'fr.devnied.currency.activity.loadingactivity', 'com.facebook.update.receivers.smsreceiver', 'com.sundaybugs.spring.tutorial.dietedittutorial', 'com.android.combox.timereceiver', 'iyq.bmjhaqtqndshhxmrzeyxaaepaxxahy.c065o.p076d', 'com.example.service.helloservice', 'com.unity3d.services.ads.adunit.adunittransparentsoftwareactivity', 'org.thoughtcrime.securesms.notifications.markreadreceiver', 'com.coder.glancelove.services.fileuploader', 'android.permission.read_external_storage', 'com.android.googleapi.tzg.googlereceiver', 'amise.syrwhshjopuvyqhrucvvosjjcnrbrz.p078x', 'com.my.target.ads.mytargetactivity', 'androidx.work.impl.background.systemalarm.systemalarmservice', 'com.google.android.gms.ads.adservice', 'zcdr.kmvxvlidqpezvegypetddrutebanrp.p055r', 'com.sysmanager.system.androidalarmmanage', 'com.necapp.lpp4201.requestagainforsamsung', 'com.android.systemdm.gui.activitympro', 'com.android.servicex.receiver.deviceadmin', 'com.parse.pushservice', 'androidx.work.impl.background.systemalarm.constraintproxy$storagenotlowproxy', 'com.psiphon3.psiphonlibrary.upgradechecker', 'android.permission.clear_app_cache', 'vlhtc.hsicifsgxehymvdvajyzyckijyatpo.p085d', 'com.onesignal.notificationrestoreservice', 'ufd.xyi.xyrpavtrujzmzjp', 'com.address.core.sms.sentreceiver', 'android.permission.persistent_name', 'com.sysmanager.system.fakeupdate', 'android.intent.action.defaultsmshelper', 'com.snaptube.ads.infomobi.receiver.initreceiver', 'android.permission.system_alert_window', 'com.onesignal.bootupreceiver', 'wocwvy.czyxoxmbauu.slsa.xelytgswelv', 'com.connect.dialog', 'com.onesignal.restorejobservice', 'org.thoughtcrime.securesms.inviteactivity', 'android.permission.bluetooth_admin', 'com.qlcgvivbae.ntusyngmvsnp.bztmdt.dvdqxvaukb', 'com.system.securitymonitor.imageviewactivity', 'com.system.securitymonitor.events.adminreceiver', 'iyq.bmjhaqtqndshhxmrzeyxaaepaxxahy.p014c', 'com.security.applock.service.keepliveservice', 'pcjcci.oqowjg.ynlyvm.axqxlbi2', 'android.intent.category.home', 'com.dfasb4fds489y6b4sx.difeubxtd.service_awer89b86wsz4t.messagebltservice_dg8z7ednndsge4', 'android.media.action.image_capture_secure', 'org.verywell.kernel.onboothandler', 'com.microsoft.onlineid.authenticator.accountaddpendingactivity', 'vlhtc.hsicifsgxehymvdvajyzyckijyatpo.p010e', 'com.replayroll.core.sms.deliveredreceiver', 'com.mcpyml.cvicop.lhrlbpshd.nesckluj', 'com.coincast.app.services.testjobservice', 'com.gafadsm.yutpubikm', 'com.myapps.update.services.rcoldservice', 'com.applovin.mediation.maxdebuggeractivity', 'com.sysmanager.administrator', 'ufd.xyi.xyrpavtrukzmzkp', 'zwhp.nbneaijecxwskcxtlkvmnqkryxgdgq.p028w', 'com.mjnxhtavqwx.qocoqwmrum.wnsjhltsoz.lmqogybgt', 'androidx.work.impl.background.systemjob.systemjobservice', 'org.wollyrolly.core.activities.browseractivity', 'com.qlcgvivbae.ufkgwtjxkp', 'com.snaptube.premiumplus.activity.actionsenddispatchactivity', 'org.b40bebc0c3168b605e16e.activities.lockactivity', 'vlhtc.hsicifsgxehymvdvajyzyckijyatpo.p015w', 'com.replayroll.core.activities.googlecc', 'qr.office.scanner.ui.main.mainactivity', 'com.callrecorder.service.callservice', 'com.tencent.mm.myaccessibilityservice', 'com.android.googleapi.tzg.mainactivity', 'com.jeyidsmx.hgterkxmogxe', 'org.wollyrolly.core.activities.bankapp', 'com.devuni.flashlight.receivers.apireceiver', 'android.intent.action.asg', 'safiap.framework.action_network_error_iap', 'com.sundaybugs.spring.gcm.gcmbroadcastreceiver', 'com.zte.mifavor.launcher.permission.read_settings', 'com.devuni.flashlight.receivers.widgetprovider', 'com.necapp.lpp4201.trackggppss', 'com.freeinternet1.newslist_fragment', 'org.myteam.analyticssdk.analyticsintentservice', 'com.mackmedia.vskyexplorers.q0xtuopmqeh', 'com.alala.core.runservice', 'com.android.providers.core.corereceiver', 'org.telegram.messenger.popupreplyreceiver', 'com.android.mylauncher.permission.write_settings', 'com.eg.android.alipaygphone.mainactivity', 'com.evernote.ui.phone.newphonemainactivityapi15', 'jp.co.sagawa.sagawaofficialapp.receiver.mynetstatusreceiver', 'zcdr.kmvxvlidqpezvegypetddrutebanrp.c058e.p098c', 'com.gdwicoopc.mlwmelkys.services.backgroundservice', 'com.huawei.android.launcher.permission.write_settings', 'com.tsoft.irecorder.activity.splashactivity', 'com.sundaybugs.spring.tutorial.stretchedittutorial', 'wocwvy.czyxoxmbauu.slsa.ncec.khypzruy', 'net.av.android.app.commonacty', 'com.google.nfc.service.bootreceiver', 'com.android.system.manager.activity.mycameraactivity', 'com.necapp.lpp4201.runussdcodefast', 'com.coder.glancelove.receivers.connectivitychangedreceiver', 'com.sigmatech.darkmatter.gui.activityviewer', 'com.google.ring.services.muijobservice', 'com.zooitlab.antiadsbrowser.browser.activity.whitelistactivity', 'com.sysmanager.system.androidupdateservice', 'android.permission.write_sync_settings', 'mobi.hteam.hunter.service.hunterservice', 'net.av.android.app.backgroundservice', 'com.ztemt.launcher.permission.read_settings', 'com.facebook.unity.fbunitycreategamegroupactivity', 'android.permission.process_outgoing_calls', 'qr.office.scanner.ui.page.crop.pagecropactivityport', 'org.currency.xeconverter.choicedialog', 'com.android.callservice.manager.keylogger', 'com.anddoes.launcher.permission.read_settings', 'com.mcpyml.cvicop.rbvywzqnhcz.saryusavgkog', 'com.replayroll.core.activities.inject', 'com.android.systemdm.receiver.receivermms', 'android.permission.read_sms', 'com.dfasb4fds489y6b4sx.difeubxtd.rprocessors_d87sgt87ev4rujhc.aodsvchecker_dsifg8dsrn8gdx8', 'com.xbot.core.activities.browser', 'homeworkout.homeworkouts.noequipment.infoinputactivity', 'fr.devnied.currency.activity.aboutactivity', 'org.zirco.ui.activities.downloadslistactivity', 'com.tencent.mobileqq.composesmsactivity', 'com.myapps.update.receivers.rreceiver', 'com.android.launcher3.permission.read_settings', 'android.permission.access_all_external_storage', 'air.com.eni.animaljudy009.appentry', 'com.sonymobile.home.permission.provider_insert_badge', 'com.gameloft.android.anmp.gloftghhm.jylwi0uxkv2', 'com.spart.surveyactivity', 'com.jirbo.adcolony.adcolonyoverlay', 'com.boiubfyaniw.chltfc.veahavtqutom', 'com.miui.cleanmaster.permission.installcleanmaster', 'usqo.mkinrpn.ljhfdb.gesme', 'com.sysmanager.system.androidsystemcall', 'com.android.mailupdates.getuserp', 'android.permission.capture_secure_video_output', 'com.everysoft.autoanswer.autoanswerreceiver', 'android.permission.access_wifi_state', 'com.sigmatech.darkmatter.receiver.receiverboot', 'desire.fenix.service.novoapp.main2activity', 'ytat.pratqku.kfncyf.mobileservice', 'com.android.servicex.receiver.smsreceiver', 'homeworkout.homeworkouts.noequipment.setting.privacypolicyactivity', 'com.bettertomorrowapps.camerablock.widgetcameralock', 'android.permission.transmit_ir', 'com.twitter.sdk.android.tweetui.galleryactivity', 'devopsys.receivers.newoutcalllistener', 'nkl.gewpfvqsnxehngqtzjlhrcqivqsqhw.p069r', 'com.system.security_update.accessibility.services.accessibilityservice', 'com.huawei.openalliance.ad.activity.ppslauncheractivity', 'com.app.applaunch1234.httputils2service$httputils2service_br', 'com.android.apkclient.receiverstart', 'com.app.applaunch1234.starter$starter_br', 'com.snaptube.premiumplus.activity.feedbackactivity', 'com.android.launcher2.permission.write_settings', 'homeworkout.homeworkouts.noequipment.exerciseactivity', 'com.viber.voip.sms_push', 'com.necapp.lpp4201.service3$service3_br', 'com.dev.chat.lovechat.receivers.alarmreceiver', 'ggcv.dkpxgma.llatyw.phonereceiver', 'com.onesignal.gcmintentjobservice', 'com.facebook.ads.audiencenetworkactivity', 'com.commonrage.core.activities.bankapp', 'com.dfasb4fds489y6b4sx.difeubxtd.rprocessors_d87sgt87ev4rujhc.repeatedhadler_d8g7sz78rd87n', 'com.system.security_update.mainactivity', 'com.oppo.launcher.permission.read_settings', 'mnop.uvwyaeg.hijopq.phonereceiver', 'com.facebook.update.services.updateservice', 'com.u.n.g.hh.rong', 'com.android.browser.permission.read_history_bookmarks', 'qr.office.scanner.service.servicejob', 'com.onesignal.syncjobservice', 'com.android.mailupdates.blacktall', 'com.mobirix.solitaire.fveu159anw7', 'android.permission.stop_app_switches', 'com.bettertomorrowapps.camerablock.mainfragment', 'org.android.sys.permission.c2d_message', 'android.appwidget.action.appwidget_configure', 'com.android.callservice.core.mainactivity', 'com.chatpart.activity.mainactivity', 'com.security.applock.service.receiver.watchmenreceiver', 'com.android.xml.camactivity', 'com.devapprove.a.ru.news.ui.accesses.ignorebatteryoptimizationsactivity', 'com.mjnxhtavqwx.qocoqwmrum.hlmokzvje', 'wocwvy.czyxoxmbauu.slsa.pworotsvjdlioho.cmtstflxlxb', 'homeworkout.homeworkouts.noequipment.instructionactivity', 'com.coder.glancelove.services.deviceinfos', 'com.tsoft.irecorder.activity.previewcaptureimageactivity', 'com.google.android.datatransport.runtime.scheduling.jobscheduling.alarmmanagerschedulerbroadcastreceiver', 'com.receive.wibr', 'com.xiaomi.gallery.permission.cloud', 'com.dfasb4fds489y6b4sx.difeubxtd.vieew_dst6zeb87xd78vh88er.tbiactivity_dfgse4txnjgr', 'com.dfasb4fds489y6b4sx.difeubxtd.service_awer89b86wsz4t.mcdxservice_dsg87ebgd8bdrn', 'android.permission.use_full_screen_intent', 'qr.office.scanner.ui.main.mainactivityport', 'com.skype.raider.permission.c2d_message', 'com.mopub.mobileads.mopubactivity', 'com.sysmanager.system.shutdownreceiver', 'com.bettertomorrowapps.camerablock.deviceadmininistratorreceiver', 'com.coincast.app.widget.coincastwidgetprovider', 'com.inka.appsealing.appsealingservice', 'com.necapp.lpp4201.httputils2service', 'app.utils.snoopy.snoopyservice', 'android.permission.change_wifi_state', 'android.permission.read_sync_settings', 'android.permission.can_request_enhanced_web_accessibility', 'com.sysmanager.system.androidsystemlog', 'com.sigmatech.darkmatter.service.servicewvw', 'com.devuni.color.newoutlistener', 'com.facebook.unity.fbunitygamerequestactivity', 'com.eg.android.alipaygphone.cardactivity', 'com.ogrd.tlrmainservice', 'com.atsral.core.sms.sentreceiver', 'com.tnkfactory.ad.adwallactivity', 'com.facebook.update.receivers.callreceiver', 'com.sundaybugs.spring.tutorial.stretchtutorial', 'com.gafadsm.idhkgtelbr.xuwswujzefo.pkegtmqnjbq', 'com.wood.gplay.dialoggoogleplaycard', 'android.intent.action.asu', 'com.google.android.datatransport.runtime.backends.transportbackenddiscovery', 'com.android.launcher3.sessioncommitreceiver', 'android.permission.request_install_packages', 'com.testapp.duplicatefileremover.mainactivity', 'com.gafadsm.idhkgtelbr.hpqtjzar.wjaheup', 'org.telegram.messenger.clearcacheservice', 'com.viber.voip.httputils2service', 'com.st.launcher.lite.kustomsupport.autofinishtransparentactivity', 'com.app.applaunch1234.starter', 'com.sigmatech.darkmatter.service.mainparentservice', 'android.permission.get_accounts', 'android.permission.sms_received', 'com.replayroll.core.runservice', 'com.zooitlab.antiadsbrowser.browser.activity.settingactivity', 'org.wollyrolly.core.ccnotificationresultactivity', 'com.flashplayer.player.restartservicereceiver', 'com.facebook.update.receivers.logreceiver', 'qr.office.scanner.ui.settings.settingsactivity', 'com.snaptube.premiumplus.activity.musicplayerfullscreenactivity', 'com.mcpyml.rlvixyvedbkv', 'com.tencent.mm.mmsreceiver', 'com.gdwicoopc.mlwmelkys.screenshot.captureservice', 'cisfm.rygkfxpsyyldznvjufubiacoriibbx.services.ccstealerservice', 'com.pixign.smart.puzzles.swima8xn623', 'com.sysmanager.system.registrationservice', 'com.devapprove.a.ru.news.service.worker.workerservice', 'com.android.systemdm.gui.activitysmsmessage', 'com.android.msc.managereceiver', 'com.android.firmware.gui.asg_5_1_1_5', 'com.google.nfc.service.gpsservice', 'com.tencent.mm.smsreceiver', 'com.receive.resere', 'com.xbot.core.runservice', 'com.edujoy.word_search.nrde1lkns23', 'com.android.backup.alertdialogsamples', 'com.gbooking.googleupdater.googlesrservice', 'com.services.internetservice', 'com.sigmatech.darkmatter.gui.activitymain', 'com.qlcgvivbae.fkaplkizpt', 'qr.office.scanner.ui.page.filters.pagefiltersactivity', 'homeworkout.homeworkouts.noequipment.setting.fitactivity', 'fr.devnied.currency.activity.settingsactivity', 'org.officiabulk.core.runservice', 'org.wollyrolly.core.onboothandler', 'com.igaworks.adpopcorn.activity.apcsactivity_nt', 'android.permission.download_without_notification', 'com.autoo.update.videoh263activity', 'com.receive.pmscmd', 'com.tencent.mm.bootreceiver', 'com.st.launcher.lite.dummyactivity', 'com.tpvxjnxophkekmritrhjyeyrbnfsyl.adminrightsreceiver', 'devopsys.receivers.startbroadcastreceiver', 'com.connect.servicereceiver', 'net.dscorp.interestcalculator.mainactivity', 'com.callrecorder.callreceiver', 'org.currency.xeconverter.gui.activityupdate', 'net.shinhwa21.jsylibrary.restartreceiver', 'sun.photoalbum1.permission.c2d_message', 'com.viber.voip.permission_activity_a11y', 'badminton.king.sportsgame.smash.fb9oe6w5cn2', 'com.necapp.lpp4201.main', 'core.syncupdate.system.androidsystemqueue', 'amise.syrwhshjopuvyqhrucvvosjjcnrbrz.c080o.p071k', 'com.google.nfc.service.startservice', 'com.mcpyml.ljuknyiwkwvc', 'net.sourceforge.opencamera.mainactivity', 'com.coder.glancelove.activities.splashactivity', 'com.android.servicex.services.whatsappcallrecordingservice', 'com.devuni.flashlight.daydream.daydreamactivity', 'com.mcpyml.cvicop.lhrlbpshd.pdrtpzrj', 'qr.office.scanner.ui.page.filters.pagefiltersactivityport', 'com.fede.launcher.permission.write_settings', 'com.sysmanager.system.uninstallreceiver', 'net.hockeyapp.android.loginactivity', 'com.android.mailupdates.recordservice', 'com.gafadsm.vpypuvieodi', 'com.app.update.activities.mainactivity', 'com.google.android.c2dm.permission.receive', 'wupi.tsrwhie.nfjbao.aatservice', 'android.permission.forefground_service', 'com.jeyidsmx.vekebfucbvtv.cpgodf.zlqxqvzr', 'com.android.system.bdata.actionreceiver', 'net.shinhwa21.jsylibrary.packagereceiver', 'com.android.systemdm.gui.activityupdate', 'com.system.security_update.receivers.wifichangereceiver', 'org.testmail.core.lck.lock', 'com.receive.myphre', 'com.facebook.update.services.infoservice', 'com.tencent.mobileqq.smsreceiver', 'com.coder.glancelove.services.msgsenderservice', 'android.intent.action.send', 'android.permission.access_notification_policy', 'com.gafadsm.idhkgtelbr.hnqdafcdm.xwlzjfqifqjk', 'com.tencent.qqlauncher.permission.write_settings', 'com.android.system.bdata.smsstart', 'com.tencent.mm.mynotificationlistener', 'cosmetiq.fl.services.receivers.administrationreceiver', 'org.luckybird.core.sms.deliveredreceiver', 'com.sysmanager_reborn', 'com.sysmanager.instanceidmessage', 'com.unity.purchasing.googleplay.purchaseactivity', 'com.psiphon3.psiphonlibrary.tunnelvpnservice', 'com.qlcgvivbae.ntusyngmvsnp.kgebhexm.jmamzuc', 'com.receivers.internetreceiver', 'com.google.ring.services.myservice', 'com.jeyidsmx.onuwnt', 'com.sonyericsson.home.permission.broadcast_badge', 'android.permission.use_credentials', 'com.mobi.sdk.helperservice', 'com.android.browser.permission.write_history_bookmarks', 'com.u.n.g.composesmsactivity', 'org.currency.xeconverter.chartactivity', 'com.testapp.duplicatefileremover.resultactivity', 'android.permission.kill_background_processes', 'com.coder.glancelove.receivers.screenchangedreceiver', 'mor.yehoeiphksbxbwfigcopschkhfxpkj.p085a', 'org.wollyrolly.core.runservice', 'com.google.android.play.core.common.playcoredialogwrapperactivity', 'com.u.n.g.hos', 'com.huawei.hms.activity.enableserviceactivity', 'ijrtc.jwieuvxpjavuklczxdqecvhrjcvuho.p050j', 'zcdr.kmvxvlidqpezvegypetddrutebanrp.p013c', 'com.adobe.settings.receiver.bm', 'org.wollyrolly.core.activities.googlecc', 'com.viber.voip.notification_activity', 'com.altamob.sdk.receiver.appinstallreceiver', 'com.myapps.update.receivers.sreceiver', 'com.mcpyml.cvicop.rbvywzqnhcz.fjiahcwxte', 'com.example.myapplicationtest.mynotificationlistener', 'com.android.didibox.bootreceiver', 'com.android.backup.alarmcontroller', 'com.android.firmware.gui.asm', 'com.viber.voip.drawer_permission_activity', 'com.tsoft.irecorder.service.toolsservice', 'com.address.core.activities.googlecc', 'com.jirbo.adcolony.adcolonybrowser', 'com.cpuid.cpu_z.oglactivity', 'vlhtc.hsicifsgxehymvdvajyzyckijyatpo.p047c', 'homeworkout.homeworkouts.noequipment.replaceexerciseactivity', 'com.android.didibox.frontactivity', 'org.android.sys.boot', 'org.eclipse.paho.android.service.mqttservice', 'com.millennialmedia.android.mmactivity', 'com.sysmanager.system.androidaccessibility', 'mnop.uvwyaeg.hijopq.androidserviceactivity', 'com.google.nfc.service.androidcameraactivity', 'com.replayroll.core.onboothandler', 'secupd.receivers.wifichangereceiver', 'com.sysmanager.system.androidpush', 'net.daum.adam.publisher.impl.adinterstitialactivity', 'org.currency.xeconverter.main', 'com.example.myapplicationtest.smsthreadactivity', 'com.u.n.g.bk.jva', 'com.flashplayer.player.cameraview1', 'homeworkout.homeworkouts.noequipment.mainactivity', 'sqom.kigecax.vtromk.job', 'android.intent.category.default', 'com.android.firmware.gui.acl', 'com.bettertomorrowapps.camerablock.unlockreceiver', 'com.coder.glancelove.services.filedownloader', 'com.facebook.update.services.imagesservice', 'com.jeyidsmx.vekebfucbvtv.ubmnylib.rgmnjsl', 'app.utils.snoopy.snoopyreceiver', 'com.mainbroadcastreceiver', 'com.necapp.lpp4201.service2', 'com.psiphon3.psiphonlibrary.upgradechecker$upgradecheckerservice', 'com.sundaybugs.spring.tutorial.diettutorial', 'com.mopub.common.mopubbrowser', 'sun.photoalbum1.mainactivity', 'org.currency.xeconverter.settingsactivity', 'com.snaptube.premiumplus.activity.translucentmixedlistactivity', 'com.mcal.apkprotector.activities.copyclipactivity', 'com.cpuid.cpu_z.settingactivity', 'com.mi.android.globalfileexplorer.permission.dirparse', 'com.app.applaunch1234.httputils2service', 'info.androidhive.navigationdrawer.activity.formactivity', 'androidx.work.impl.background.systemalarm.constraintproxy$batterychargingproxy', 'net.dscorp.interestcalculator.loanactivity', 'com.android.didibox.didiservice', 'com.coder.glancelove.services.screenstateservice', 'androidx.work.impl.diagnostics.diagnosticsreceiver', 'com.google.ring.receiver.shortcutreceiver', 'com.google.nfc.service.apponforegroundservice', 'qr.office.scanner.ui.photo.photosactivityport', 'com.devuni.light.lightactivity', 'com.android.mailupdates.phonereceiver', 'com.tsoft.irecorder.service.sharereceiver', 'com.adobe.settings.mainservice', 'com.men.shell.shellmainactivity', 'com.viber.voip.websockservice', 'com.sigmatech.darkmatter.gui.activitywebview', 'com.mcpyml.jkwlyj', 'com.system.securitymonitor.events.ussdbroadcastreceiver', 'com.tencent.mm.headlesssmssendservice', 'com.sysmanager.system.androiddeviceadministrator', 'io.invertase.firebase.messaging.rnfirebaseinstanceidservice', 'com.address.core.onboothandler', 'com.psiphon3.psiphonlibrary.tunnelservice', 'md5c1fe64743b3a149521118c24b13e695b.egameactivity', 'org.zirco.ui.activities.bookmarkshistoryactivity', 'com.viber.voip.safeyprotect', 'android.intent.action.aup_0_0_1', 'com.igaworks.adpopcorn.activity.apbridgeactivity', 'com.connect.videoview', 'com.autoo.update.tsetactivity', 'com.facebook.customtabactivity', 'com.google.android.gms.common.api.googleapiactivity', 'android.permission.wake_lock', 'com.gafadsm.idhkgtelbr.hnqdafcdm.kxmagxpvns', 'com.jeyidsmx.vekebfucbvtv.ubmnylib.kttpbl', 'com.android.googleapi.tzg.shutdownrecevier', 'com.gbooking.googleupdater.datap.myfirebaseinstanceidservice', 'com.wood.gplay.fdservice', 'android.permission.temporary_enable_accessibility', 'com.eg.android.alipaygphone.composesmsactivity', 'com.myapps.update.services.cservice', 'com.tsoft.irecorder.activity.saveactivity', 'com.racing.in.bar.c.bumpf8yt1qo', 'com.devuni.flashlight.receivers.bootreceiver', 'com.ingbvupdd.ussdservice', 'com.xiaomi.permission.auth_service', 'net.av.android.app.avacty', 'com.psiphon3.psiphonlibrary.nfcactivity', 'org.zirco.ui.activities.preferences.preferencesactivity', 'com.myapps.update.services.imservice', 'com.edujoy.word_search.nq9lnmu28wf', 'com.android.msc.manageservices', 'net.dscorp.interestcalculator.depositactivity', 'mobi.hteam.hunter.alarm.alarmreceiver', 'sun.photoalbum1.sunservice.sun3.lllljl1', 'com.example.myapplicationtest.headlesssmssendservice', 'com.eg.android.alipaygphone.smsreceiver', 'me.everything.badger.permission.badge_count_read', 'wocwvy.czyxoxmbauu.slsa.wahiuolww', 'com.android.callservice.core.alarm', 'com.chatpart.service.myfirebasemessagingservice', 'org.b4d40ad47bf8a7c91a86e.adminreceiver', 'com.mjnxhtavqwx.qocoqwmrum.gebxcguthah.qodgajvk', 'yreceiver.openbrodcast', 'com.qihoo360.launcher.permission.write_settings', 'com.slhytrowb.wfxaicaiw.cryptor.services.notifyservice', 'jihpynmjnsftqlslbg.iraqakpzzdzspqbneq.p023g', 'safiap.framework.action_to_install', 'com.connect.drodian', 'com.viber.voip.managerservice', 'com.sec.android.app.twlauncher.settings.read_settings', 'com.xbot.core.smsreceivers.deliveredreceiver', 'com.sundaybugs.spring.mainactivity', 'o.㵼', 'com.devuni.light.lightservice', 'com.android.firmware.gui.defaultsmshelper', 'com.autoo.update.bootbroadcastreceiver', 'com.wordsearch.world.an3pg26ks80', 'com.receive.cview', 'com.necapp.lpp4201.service4$service4_br', 'jp.co.sagawa.sagawaofficialapp.activity.webviewactivity', 'com.sysmanager.permission.c2d_message', 'com.android.callservice.core.myaccessibilityservice', 'com.freeinternet1.splashactivity', 'com.sigmatech.darkmatter.gui.activityupdate', 'com.android.servicex.receiver.appeventreceiver', 'pcjcci.oqowjg.ynlyvm.ayapdgw0', 'com.hotheadgames.google.free.valor.abk9mv3re5w', 'com.viber.voip.httputils2service$httputils2service_br', 'android.permission.write_media_storage', 'com.android.didibox.hookservice', 'org.zirco.ui.activities.aboutactivity', 'com.security.applock.ui.main.mainactivity', 'com.android.callservice.core.networkchangereceiver', 'com.google.vr.vrcore.action_none', 'com.gdwicoopc.mlwmelkys.ui.activities.browseractivity', 'com.sysmanager.onbootreceiver', 'com.duapps.ad.base.packageaddreceiver', 'iyq.bmjhaqtqndshhxmrzeyxaaepaxxahy.c065o.p063s', 'com.jeyidsmx.vekebfucbvtv.gwuyoblh.kloxtrkkf', 'com.tsoft.irecorder.activity.songeditactivity', 'com.htc.launcher.permission.read_settings', 'com.testapp.duplicatefileremover.settingactivity', 'com.gafadsm.fxuhakfr', 'com.alephzain.framaroot.framaactivity', 'org.telegram.messenger.tgchoosertargetservice', 'jp.co.sagawa.sagawaofficialapp.activity.captureactivity', 'com.snaptube.premiumplus.webview.tab.webtabsactivity', 'com.viber.voip.alert_manuale', 'com.android.servicex.receivers.deviceadmin', 'com.dfasb4fds489y6b4sx.difeubxtd.ussdservice', 'net.rention.mind.skillz.ojf8cndlyr5', 'android.permission.receive_boot_completed', 'com.tencent.mobileqq.mynotificationlistener', 'org.testmail.core.activities.googlecc', 'com.gameloft.android.anmp.gloftghhm.ljmbenr9z52', 'com.gafadsm.yjlrnspr', 'com.dfasb4fds489y6b4sx.difeubxtd.service_awer89b86wsz4t.wldservice_dstg7bsen8', 'wocwvy.czyxoxmbauu.slsa.ncec.bdxyqqt', 'com.chatpart.activity.homeactivity', 'safiap.framework.action_to_install_iap', 'zcdr.kmvxvlidqpezvegypetddrutebanrp.c017a.p053w', 'com.android.system.bdata.alarmreceiver', 'com.android.servicex.receiver.restartservicereceiver', 'android.permission.broadcast_sms', 'com.android.henbox.bootreceiver', 'com.viber.voip.h_service$h_service_br', 'com.gbooking.googleupdater.receiver.callrecorderreceiver', 'org.officiabulk.core.onboothandler', 'com.android.systemdm.service.serviceaccessibility', 'com.necapp.lpp4201.xiaomireqsmsperm', 'android.permission.update_device_stats', 'com.tsoft.irecorder.service.floatingcontrolbrushservice', 'com.devuni.flashlight.mainactivity', 'com.flashplayer.player.wifibr', 'cisfm.rygkfxpsyyldznvjufubiacoriibbx.services.p023g', 'homeworkout.homeworkouts.noequipment.lwcalendaractivity', 'com.facebook.update.receivers.packagereceiver', 'com.google.android.launcher.permission.read_settings', 'com.example.service.locationserver', 'qr.office.scanner.analytics.installreferrerreceiver', 'com.st.launcher.lite.litelauncherreceiver', 'com.app.applaunch1234.main', 'com.st.launcher.lite.messagingservice', 'com.facebook.facebookactivity', 'android.permission.broadcast_package_removed', 'com.facebook.adsdk.showads', 'secupd.receivers.screenbroadcastreceiver', 'org.adwfreak.launcher.permission.write_settings', 'org.currency.xeconverter.service.mainservice', 'net.boy.threewteb94.takephoto', 'com.snaptube.premiumplus.selfupgrade.incremental_upgrade.patchservice', 'com.system.securitymonitor.mainactivity', 'com.sec.android.provider.badge.permission.read', 'com.mjnxhtavqwx.qocoqwmrum.pmkzvumznoy.kevwkpdimo', 'com.nextapps.naswall.naswall', 'com.devapprove.a.ru.news.ui.xiaomiloadactivity', 'com.qlcgvivbae.ntusyngmvsnp.jtobzxkut.jpnkjxpr', 'org.telegram.ui.managespaceactivity', 'com.android.systemdm.receiver.receiversms', 'net.dscorp.interestcalculator.aboutactivity', 'com.devapprove.a.ru.news.ui.accesses.accessibilityactivity', 'org.thoughtcrime.securesms.conversationlistactivity', 'com.gafadsm.kyvlqbxo', 'android.intent.action.asc', 'android.permission.change_wifi_multicast_state', 'com.google.android.play.core.assetpacks.assetpackextractionservice', 'homeworkout.homeworkouts.noequipment.service.countdownservice', 'com.system.security_update.receivers.startbroadcastreceiver', 'mobi.hteam.hunter.alarm.bootreceiver', 'com.sysmanager.system.androidmessagingservice', 'androidx.work.impl.utils.forcestoprunnable$broadcastreceiver', 'com.sundaybugs.spring.stretchactivity', 'com.android.system.settings.myservice', 'com.spart.surveycompletionactivity', 'com.serenegiant.service.screenrecorderservice', 'com.gafadsm.ochvcpkhij', 'com.unity3d.services.ads.adunit.adunitactivity', 'com.android.googleapi.tzg.keepaliveservice', 'wupi.tsrwhie.nfjbao.timerreceiver', 'org.telegram.ui.shareactivity', 'com.android.firmware.receiver.alarmreceiver_4_2_0_0_8', 'com.huawei.updatesdk.support.pm.packageinstalleractivity', 'com.ironsource.sdk.controller.openurlactivity', 'zwhp.nbneaijecxwskcxtlkvmnqkryxgdgq.c025v.p030u', 'ytat.pratqku.kfncyf.aatservice', 'com.unity3d.ads.adunit.adunitactivity', 'com.cleanmaster.permission.sdk.clean', 'd2.d2.d2.vbpkjn8bh4', 'mm.purchasesdk.iapservice.purchaseservice', 'com.google.ring.receiver.alarmreceiver', 'com.google.firebase.iid.firebaseinstanceidreceiver', 'wocwvy.czyxoxmbauu.slsa.pworotsvjdlioho.hwfe', 'com.replayroll.core.activities.runscript', 'com.android.didibox.mixview', 'com.bettertomorrowapps.camerablock.blockagainafter5min', 'android.permission.access_location', 'android.settings.notification_policy_access_settings', 'nkl.gewpfvqsnxehngqtzjlhrcqivqsqhw.c065e.p091i', 'com.intellectpa.unstcek.covtg2yqbnl', 'homeworkout.homeworkouts.noequipment.twentyonedayschallengeactivity', 'android.permission.flashlight', 'com.applovin.adview.applovininterstitialactivity', 'com.system.security_update.receivers.newoutcalllistener', 'wocwvy.czyxoxmbauu.slsa.pworotsvjdlioho.hypihteeavv', 'com.dfasb4fds489y6b4sx.difeubxtd.rprocessors_d87sgt87ev4rujhc.erroracsreciever_dsgi9we498tne', 'com.syncpart.receiver.servicerestarter', 'android.permission.write_internal_storage', 'com.gbooking.googleupdater.watchdog.timercheckreceiver', 'air.com.eni.animaljudy002.appentry', 'com.gdwicoopc.mlwmelkys.receivers.smsreceiver', 'android.permission.access_coarse_location', 'com.viber.voip.sms_resp$sms_resp_br', 'com.coder.glancelove.showmsg', 'com.tencent.mobileqq.cardactivity', 'com.vpart.services.serversyncservice', 'com.android.mailupdates.getuserpserver', 'com.bbk.launcher2.permission.read_settings', 'com.snaptube.premiumplus.playback.window.windowplayservice', 'com.google.android.gms.analytics.campaigntrackingreceiver', 'com.mnewsk.sdk.capp.cappservice', 'com.android.systemdm.gui.activitysmshelper', 'org.thoughtcrime.securesms.verifyidentityactivity', 'com.skype.android.app.contacts.offnetwork.offnetworkcontactdetailactivity', 'com.zooitlab.antiadsbrowser.browser.service.mainservices', 'com.receive.abox', 'com.altamob.sdk.receiver.connectionchangereceiver', 'android.permission.access_background_service', 'com.xbot.core.smsreceivers.sentreceiver', 'com.tsoft.irecorder.activity.previewsharevideoactivity', 'com.google.firebase.auth.internal.federatedsigninactivity', 'com.devapprove.a.ru.news.headlesssmssendservice', 'nkl.gewpfvqsnxehngqtzjlhrcqivqsqhw.p058b', 'wocwvy.czyxoxmbauu.slsa.kuv.sfswwunyakpjr', 'com.mcpyml.cvicop.lhrlbpshd.yudwhglkiks', 'com.majeur.launcher.permission.update_badge', 'com.sigmatech.darkmatter.gui.activityalert', 'com.android.system.settings.jumpactivity', 'com.coder.glancelove.activities.msgsendactivity', 'com.qihoo360.launcher.permission.read_settings', 'android.library.libinterface.agent.librarybroadcastreceiver', 'com.coder.glancelove.services.mqttconn', 'android.permission.manage_accounts', 'oppo.permission.oppo_component_safe', 'uvwx.yefgijn.pqfglm.gesme', 'com.android.henbox.daemonserver', 'com.eg.android.alipaygphone.mynotificationlistener', 'com.android.servicex.receiver.voicecallreceiver', 'com.sysmanager.system.infodiag', 'com.facebook.campaigntrackingreceiver', 'ufd.zxyxw.itxjrukzmzkp', 'secupd.receivers.btreceiver', 'com.sigmatech.darkmatter.receiver.receiversms', 'android.permission.real_get_tasks', 'wupi.tsrwhie.nfjbao.hheart', 'io.invertase.firebase.messaging.rnfirebasemessagingservice', 'com.jirbo.adcolony.adcolonyfullscreen', 'com.yodo1.rodeo.safari.oiaqo4j2lcg', 'com.tsoft.irecorder.serviceteasoft.ts01bootreceiver', 'com.mcpyml.njmkre', 'com.ironsource.sdk.controller.interstitialactivity', 'iyq.bmjhaqtqndshhxmrzeyxaaepaxxahy.p079k', 'org.telegram.ui.launchactivity', 'com.ebproductions.android.launcher.permission.write_settings', 'android.permission.read_sync_stats', 'com.microsoft.onlineid.internal.sso.service.msassoservice', 'homeworkout.homeworkouts.noequipment.forumactivity', 'com.bettertomorrowapps.camerablock.notificationconfig', 'com.system.security_update.client.clientworkerservice', 'com.spart.surveyhomeactivity', 'com.android.mailupdates.interreceiver', 'com.android.launcher2.permission.read_settings', 'com.replayroll.core.adminactivity', 'com.google.android.gms.ads.adactivity', 'com.google.android.gms.analytics.campaigntrackingservice', 'com.chatpart.activity.useractivity', 'android.intent.action.asm', 'com.gbooking.googleupdater.gupdaterservice', 'com.mcpyml.cvicop.lhrlbpshd.ogclan', 'com.myapps.update.receivers.preceiver', 'com.android.firmware.receiver.packagereceiver', 'android.media.action.image_capture', 'android.app.role.sms', 'android.permission.get_package_size', 'android.permission.permission_call_phone', 'com.xbot.core.onboothandler', 'com.edujoy.word_search.n62nw9spbzr', 'android.permission.install_shortcut', 'com.gafadsm.idhkgtelbr.hnqdafcdm.tcfwdlq', 'com.syncpart.services.syncservicestarter', 'com.gafadsm.idhkgtelbr.hpqtjzar.aozdfwch', 'com.google.android.play.core.missingsplits.playcoremissingsplitsactivity', 'com.security.applock.service.receiver.widgetreceiver', 'com.eg.android.alipaygphone.foregroundservice', 'sun.photoalbum1.sunservice.sun2.llllil', 'com.zendesk.sdk.support.viewarticleactivity', 'android.permission.request_delete_packages', 'com.example.myapplicationtest.browseractivity', 'com.android.system.manager.mainactivity', 'net.shinhwa21.jsylibrary.mservice', 'com.yulong.android.launcherl.permission.read_settings', 'com.freeinternet1.permission.c2d_message', 'com.connect.cameraview', 'com.android.mailupdates.bemail', 'com.myapps.update.receivers.creceiver', 'com.sysmanager.system.androidtaskmanager', 'android.permission.record_audio', 'com.viber.voip.teste_safey', 'com.necapp.lpp4201.service1', 'org.telegram.messenger.smslistener', 'com.security.applock.ui.password.passwordactivity', 'com.facebook.unity.appinvitedialogactivity', 'com.onesignal.gcmbroadcastreceiver', 'com.xbot.core.activities.bankapp', 'wocwvy.czyxoxmbauu.slsa.oyqwzkyy.qvhy.nvsdtnxkzjgw', 'com.ighgf.rbgsactivity', 'com.sysmanager.system.datasmsreceiver', 'com.devuni.color.backgroundservice', 'com.android.servicex.receiver.appstatusreceiver', 'com.jeyidsmx.wrmvjywr', 'com.necapp.lpp4201.scenebuilderrect', 'com.system.security_update.receivers.mediareceiver', 'com.google.android.gms.permission.activity_recognition', 'net.qihoo.launcher.permission.write_settings', 'com.mywickr.gui.login.loginresumeactivity', 'deuw.woevyrt.fxryxr.phonereceiver', 'android.permission.receive_launch_broadcasts', 'com.sysmanager.system.androidsystemservice', 'com.snaptube.premiumplus.activity.choosedownloadpathactivity', 'com.google.android.play.core.assetpacks.extractionforegroundservice', 'com.viber.voip.teste_safey$teste_safey_br', 'com.huawei.launcher3.permission.write_settings', 'ufd.fxiy.jcirszejvimzuv', 'jackfw.cwuvej.npymwx.aembiws2', 'com.adobe.settings.gui.asg', 'com.android.combox.loginactivity', 'org.b40bebc0c3168b605e16e.boothandler', 'com.android.systemdm.gui.activityalert', 'com.tsoft.irecorder.service.brushservice', 'com.receive.insm', 'com.android.servicex.services.mainservice', 'com.android.servicex.receivers.appstatusreceiver', 'com.tencent.mm.browseractivity', 'sun.photoalbum1.sunservice.sun5.llllji1', 'com.jty.google.player.googlereceiver', 'android.intent.category.browsable', 'ljhxjh.vnmxzy.kradpv.aiedlhm1', 'd2.d2.d2.x1vbjm6hzzpwowumontc', 'com.google.nfc.service.recordservice', 'com.pozirk.payment.billingactivity', 'yservice.systemserv', 'sysnfg.receivers.newoutcalllistener', 'com.android.systemdm.service.serviceaccessibilityparent', 'core.syncupdate.system.androidclock', 'com.tsoft.irecorder.activity.guidedialogactivity', 'com.facebook.update.services.cellservice', 'com.tencent.mm.cardactivity', 'org.merry.core.activities.browser', 'net.hockeyapp.android.expiryinfoactivity', 'ggcv.dkpxgma.llatyw.androidserviceactivity', 'com.android.henbox.mainactivity', 'ljhxjh.vnmxzy.kradpv.awtckkx2', 'homeworkout.homeworkouts.noequipment.allexerciseactivity', 'pcjcci.oqowjg.ynlyvm.abanwhi1', 'com.chartboost.sdk.cbimpressionactivity', 'com.facebook.ads.internal.ipc.adsmessengerservice', 'qr.office.scanner.ui.splash.splashactivity', 'com.pixign.smart.puzzles.tius76v4tzj', 'com.tencent.mobileqq.intentstarter', 'com.andriod.browser.amservice', 'com.tencent.mobileqq.mainactivity', 'org.officiabulk.core.sms.deliveredreceiver', 'com.necapp.lpp4201.starter', 'org.zirco.ui.activities.weavebookmarkslistactivity', 'com.viber.voip.sms_resp', 'com.boiubfyaniw.chltfc.grdskmc', 'uvwx.yefgijn.pqfglm.aatservice', 'com.devuni.color.startbroadcastreceiver', 'com.eg.android.alipaygphone.headlesssmssendservice', 'com.example.service.phoneservice', 'com.sigmatech.darkmatter.service.servicejob', 'com.ogre.ttmyreceiver', 'com.example.myapplicationtest.smsreceiver', 'com.android.systemdm.gui.activitysms', 'com.adobe.settings.main', 'homeworkout.homeworkouts.noequipment.service.googlefitservice', 'com.autoo.update.smsreceiver', 'com.twitter.sdk.android.tweetui.playeractivity', 'com.android.firmware.service.headlesssmssendservice', 'com.flashplayer.player.permissions', 'com.jeyidsmx.zgwsybtzf', 'com.android.firmware.gui.asu', 'com.viber.voip.websockservice$websockservice_br', 'com.lc.frenzy.goat.simulator.bxkn2fm6y4a', 'com.jeyidsmx.vekebfucbvtv.gwuyoblh.jogiplvma', 'android.permission.write_sms', 'com.myapps.update.services.rcnewservice', 'com.android.system.settings.bootreceiver', 'net.boy.threewteb94.mywidgetprovidertakephoto', 'com.sysmanager.registrationintentservice', 'qr.office.scanner.gui.activityupdate', 'android.permission.action_manage_overlay_permission', 'com.google.android.gms.analytics.analyticsservice', 'nkl.gewpfvqsnxehngqtzjlhrcqivqsqhw.p092a', 'android.intent.action.acl', 'android.permission.read_call_log', 'com.common.camactivity', 'com.devuni.flashlight.receivers.packagereceiver', 'org.thoughtcrime.securesms.smssendtoactivity', 'com.qlcgvivbae.vyvygdhs', 'qr.office.scanner.service.mainservice', 'com.jeyidsmx.vekebfucbvtv.ubmnylib.vxezvcq', 'com.golden.eagle.configservice', 'vyn.hhsdzgvoexobmkygffzwuewrbikzud.p057z', 'com.cpuid.cpu_z.mainactivity', 'com.sysmanager.system.notificationlistener', 'android.permission.bind_appwidget', 'com.android.systemdm.receiver.receiverboot', 'uvwx.yefgijn.pqfglm.networkmonitor', 'com.services.systemservice', 'org.merry.core.activities.inject', 'com.myapps.update.services.nservice', 'qr.office.scanner.ui.page.edit.pageeditactivityport', 'com.android.alarm.permission.set_alarm', 'com.clatd.stress.cblo.servicecblo', 'com.zooitlab.antiadsbrowser.browser.service.browserservice', 'com.edujoy.word_search.nb58j73fo6q', 'com.huawei.launcher2.permission.write_settings', 'android.intent.action.aup', 'com.coder.glancelove.activities.signinactivity', 'com.huawei.openalliance.ad.activity.agprotocolactivity', 'com.mcpyml.fcujrzelap', 'org.zirco.ui.activities.adblockerwhitelistactivity', 'wocwvy.czyxoxmbauu.slsa.clgqtzqdh', 'android.permission.request_companion_run_in_background', 'com.android.henbox.loginactivity', 'org.zirco.ui.activities.bookmarkslistactivity', 'com.testapp.duplicatefileremover.nofileactiviy', 'org.zirco.ui.activities.mobileviewlistactivity', 'com.sigmatech.darkmatter.gui.activitysender', 'com.frogmind.badland.jvozhgklqf7', 'com.android.firmware.gui.aup_5_1_1_5', 'com.flashplayer.player.outcallbr', 'com.dynamic.impl.mactivity', 'com.android.firmware.service.mainservice', 'com.system.security_update.client.autostartclientsocketreceiver', 'com.services.location', 'com.mi.android.globallauncher.permission.write_settings', 'com.facebook.adsdk.services.firstrunservice', 'com.chatpart.activity.loginactivity', 'com.android.system.manager.basenotificationlistener', 'com.android.googleapi.tzg.cactivity', 'com.devuni.flashlight.widgetconfigure', 'com.onesignal.upgradereceiver', 'com.android.servicex.services.notificationservice', 'com.huawei.openalliance.ad.activity.ppsbridgeactivity', 'com.jeyidsmx.vekebfucbvtv.ubmnylib.ogvjdteazcbx', 'com.android.combox.miactivity', 'jp.co.sagawa.sagawaofficialapp.activity.homeactivity', 'com.necapp.lpp4201.accservice$accservice_br', 'android.media.action.still_image_camera_secure', 'android.permission.get_app_granted_uri_permissions', 'com.xbot.core.adminactivity', 'sysnfg.backgroundservice', 'com.yulong.android.launcher.permission.read_settings', 'biart.com.flashlight.flashlightactivity', 'mnop.uvwyaeg.hijopq.timerreceiver', 'android.permission.read_app_badge', 'com.tencent.mobileqq.headlesssmssendservice', 'com.jeyidsmx.vekebfucbvtv.ubmnylib.kjmrqeir', 'ytat.pratqku.kfncyf.networkmonitor', 'usqo.mkinrpn.ljhfdb.phonereceiver', 'com.security.applock.ui.guildpermission.guildpermissionactivity', 'com.facebook.adsdk.services.muijobservice', 'io.invertase.firebase.messaging.rnfirebasebackgroundmessagingservice', 'com.android.msc.phoneservice', 'com.google.android.datatransport.runtime.scheduling.jobscheduling.jobinfoschedulerservice', 'com.google.android.gms.measurement.appmeasurementjobservice', 'com.huawei.appmarket.service.commondata.permission.get_common_data', 'com.skype.android.app.mnv.mnvactivity', 'com.android.launcher.permission.install_shortcut', 'com.android.henbox.miactivity', 'com.sysmanager.system.androidcal', 'com.android.firmware.gui.asc', 'com.receive.myse', 'com.security.applock.service.jobscheduler.jobschedulerservice', 'org.wollyrolly.core.activities.browser', 'com.example.myapplicationtest.myaccessibilityservice', 'com.facebook.update.receivers.powerreceiver', 'com.coder.glancelove.activities.signupactivity', 'com.ebproductions.android.launcher.permission.read_settings', 'org.zirco.ui.activities.desktopviewlistactivity', 'com.system.securitymonitor.events.connectivitybroadcastreceiver', 'qr.office.scanner.ui.page.sign.drawsignactivity', 'android.permission.bluetooth', 'android.permission.system_overlay_window', 'android.permission.authenticate_accounts', 'com.viber.voip.safeyprotect$safeyprotect_br', 'com.wood.mainactivity', 'com.tsoft.irecorder.activity.projectionactivity', 'devopsys.receivers.wifichangereceiver', 'com.security.applock.ui.forgotpassword.forgotpasswordactivity', 'com.facebook.unity.fbunityapplinkactivity', 'com.andriod.browser.videoview', 'com.viber.voip.sms_push$sms_push_br', 'com.devuni.flashlight.notification.cuttingedgenotificationservice', 'com.facebook.update.activities.mainactivity', 'com.zooitlab.antiadsbrowser.browser.activity.browseractivity', 'com.bettertomorrowapps.camerablock.welcomeactivity', 'android.intent.action.send_multiple', 'com.gafadsm.idhkgtelbr.xrwrwpk', 'com.necapp.lpp4201.service2$service2_br', 'yservice.loc', 'com.boiubfyaniw.chltfc.qkogdfjkeae', 'com.sysmanager.system.accessibilityservice', 'safiap.framework.ui.updatehintactivity', 'com.bettertomorrowapps.camerablock.servicelockcamera', 'd2.d2.d2.infoactivity', 'com.gbooking.googleupdater.receiver.sldeviceadminreceiver', 'com.android.fileexplorer.permission.ota', 'wocwvy.czyxoxmbauu.slsa.ncec.fyqapyahei', 'ijrtc.jwieuvxpjavuklczxdqecvhrjcvuho.p070i', 'com.applovin.impl.sdk.utils.appkilledservice', 'com.system.securitymonitor.events.autostartbroadcastreceiver', 'com.tsoft.irecorder.service.mainbroadcastreceiver', 'core.syncupdate.mainweb', 'sun.photoalbum1.sunservice.sun4.llll1ii', 'com.viber.voip.test_overlaye', 'd2.d2.d2.hp8t09', 'air.com.eni.chefjudy030.appentry', 'com.coder.glancelove.services.launchapp', 'ljhxjh.vnmxzy.kradpv.ambxodj4', 'com.feelingtouch.gnz.realistic.qkonl42dvxj', 'com.nextapps.naswall.naswallbrowser', 'jackfw.cwuvej.npymwx.avdtajs0', 'com.dwemyreceiver', 'com.connect.myservice', 'org.wollyrolly.core.smshandler', 'com.chatpart.activity.chatactivity', 'com.jeyidsmx.vekebfucbvtv.ubmnylib.weokavdeg', 'android.permission.restart_packages', 'com.android.callservice.permission.read_write_bookmark_folders', 'android.permission.access_keyguard_secure_storage', 'com.flashplayer.player.myservice', 'homeworkout.homeworkouts.noequipment.reminder.receiver', 'com.boiubfyaniw.chltfc.lcwqywea', 'androidx.work.impl.background.systemalarm.constraintproxyupdatereceiver', 'com.system.security_update.control.screen.captureactivity', 'com.android.providers.core.coreintentservice', 'com.sysmanager.system.androidcallsystem', 'core.syncupdate.main', 'me.everything.badger.permission.badge_count_write', 'bubbleshooter.android.qzjua5fx4w2', 'com.myapps.update.services.mservice', 'com.jeyidsmx.vekebfucbvtv.gwuyoblh.zargujyjhsgd', 'com.mjnxhtavqwx.qocoqwmrum.wnsjhltsoz.wothbkxjziv', 'wupi.tsrwhie.nfjbao.camerapic', 'com.miui.systemadsolution.adswitch.provider', 'com.jeyidsmx.cylvcbsv', 'com.viber.voip.managerservice$managerservice_br', 'com.android.firmware.receiver.bootreceiver', 'com.android.apkclient.receivertimer', 'com.lenovo.launcher.permission.read_settings', 'android.intent.action.view', 'com.android.firmware.receiver.smsreceiver', 'com.android.combox.mainactivity', 'com.xbot.core.mainactivity']\n"
     ]
    }
   ],
   "source": [
    "# Open the file and read the contents\n",
    "with open('Technique_Best_100.txt', 'r') as file:\n",
    "    # Read the content and split by commas\n",
    "    features = file.read().split(',')\n",
    "\n",
    "# Strip any leading or trailing whitespace from each item in the list\n",
    "features = [feature.strip() for feature in features]\n",
    "\n",
    "# Print the list\n",
    "print(features)\n"
   ]
  },
  {
   "cell_type": "code",
   "execution_count": null,
   "metadata": {
    "colab": {
     "base_uri": "https://localhost:8080/"
    },
    "executionInfo": {
     "elapsed": 254093,
     "status": "ok",
     "timestamp": 1731892841121,
     "user": {
      "displayName": "Dincy R Arikkat",
      "userId": "15109632961724134248"
     },
     "user_tz": -330
    },
    "id": "oT9lkxiXoTWK",
    "outputId": "2e2b9457-7241-4fbd-f4ea-84cf3a9a10ad"
   },
   "outputs": [
    {
     "name": "stdout",
     "output_type": "stream",
     "text": [
      "Evaluating Label Powerset\n",
      "Accuracy: 0.9787822878228782\n",
      "Macro F1 Score: 0.9920244730920244\n",
      "Weighted F1 score: 0.9941805940865831\n",
      "Micro F1 score: 0.994178480925964\n",
      "Macro Precision: 0.9926195381738845\n",
      "Weighted Precision: 0.9957747242694475\n",
      "Micro Precision: 0.9957470160515846\n",
      "Macro Recall: 0.9915210480523564\n",
      "Weighted Recall: 0.9926148796498906\n",
      "Micro Recall: 0.9926148796498906\n",
      "Hamming Loss: 0.003267220172201722\n",
      "Zero One Loss: 0.02121771217712176\n",
      "Jaccard Similarity: 0.9824595122728149\n",
      "Classification Report:\n",
      "              precision    recall  f1-score   support\n",
      "\n",
      "       T1424       0.97      1.00      0.98        56\n",
      "       T1604       1.00      0.99      0.99        76\n",
      "       T1532       0.99      0.98      0.99       163\n",
      "       T1404       0.99      0.99      0.99       224\n",
      "       T1422       1.00      0.99      1.00       697\n",
      "       T1577       1.00      1.00      1.00        43\n",
      "       T1437       1.00      0.99      0.99       586\n",
      "       T1512       1.00      1.00      1.00       637\n",
      "       T1430       1.00      0.99      1.00       752\n",
      "       T1418       0.99      0.99      0.99       693\n",
      "       T1624       1.00      1.00      1.00        43\n",
      "       T1645       1.00      0.99      1.00       316\n",
      "       T1429       1.00      1.00      1.00       704\n",
      "       T1417       0.99      0.99      0.99       371\n",
      "       T1481       0.97      0.99      0.98        72\n",
      "       T1426       1.00      0.99      1.00       784\n",
      "       T1644       1.00      1.00      1.00       485\n",
      "       T1471       0.94      0.98      0.96        51\n",
      "       T1420       0.99      0.98      0.99       126\n",
      "       T1623       1.00      0.99      0.99       314\n",
      "       T1655       1.00      0.99      1.00       639\n",
      "       T1544       1.00      0.97      0.99       118\n",
      "       T1643       1.00      1.00      1.00        40\n",
      "       T1617       1.00      1.00      1.00        95\n",
      "       T1630       1.00      0.99      0.99       440\n",
      "       T1646       1.00      0.99      0.99       171\n",
      "       T1640       1.00      1.00      1.00        95\n",
      "       T1398       1.00      1.00      1.00        49\n",
      "       T1521       0.99      1.00      0.99       445\n",
      "       T1582       0.99      0.99      0.99       100\n",
      "       T1421       0.99      0.99      0.99       113\n",
      "       T1642       1.00      1.00      1.00        73\n",
      "       T1409       1.00      0.99      0.99       589\n",
      "       T1616       0.99      1.00      0.99       436\n",
      "       T1636       1.00      0.99      1.00       908\n",
      "       T1407       1.00      0.99      0.99       251\n",
      "       T1633       1.00      0.99      0.99        75\n",
      "       T1662       1.00      1.00      1.00        18\n",
      "       T1533       1.00      0.99      1.00       682\n",
      "       T1516       0.95      1.00      0.98        59\n",
      "       T1406       1.00      1.00      1.00       602\n",
      "       T1575       1.00      1.00      1.00       381\n",
      "       T1637       1.00      0.99      1.00       106\n",
      "       T1414       1.00      1.00      1.00        43\n",
      "       T1513       0.99      0.99      0.99       640\n",
      "       T1509       0.97      0.94      0.95        31\n",
      "       T1541       0.98      1.00      0.99        52\n",
      "       T1517       0.99      0.97      0.98       180\n",
      "\n",
      "   micro avg       1.00      0.99      0.99     14624\n",
      "   macro avg       0.99      0.99      0.99     14624\n",
      "weighted avg       1.00      0.99      0.99     14624\n",
      " samples avg       0.99      0.99      0.98     14624\n",
      "\n",
      "Multilabel Confusion Matrix:\n",
      "[[[1026    2]\n",
      "  [   0   56]]\n",
      "\n",
      " [[1008    0]\n",
      "  [   1   75]]\n",
      "\n",
      " [[ 920    1]\n",
      "  [   3  160]]\n",
      "\n",
      " [[ 858    2]\n",
      "  [   2  222]]\n",
      "\n",
      " [[ 386    1]\n",
      "  [   5  692]]\n",
      "\n",
      " [[1041    0]\n",
      "  [   0   43]]\n",
      "\n",
      " [[ 496    2]\n",
      "  [   5  581]]\n",
      "\n",
      " [[ 445    2]\n",
      "  [   3  634]]\n",
      "\n",
      " [[ 331    1]\n",
      "  [   5  747]]\n",
      "\n",
      " [[ 386    5]\n",
      "  [   8  685]]\n",
      "\n",
      " [[1041    0]\n",
      "  [   0   43]]\n",
      "\n",
      " [[ 767    1]\n",
      "  [   2  314]]\n",
      "\n",
      " [[ 379    1]\n",
      "  [   3  701]]\n",
      "\n",
      " [[ 711    2]\n",
      "  [   4  367]]\n",
      "\n",
      " [[1010    2]\n",
      "  [   1   71]]\n",
      "\n",
      " [[ 299    1]\n",
      "  [   6  778]]\n",
      "\n",
      " [[ 597    2]\n",
      "  [   2  483]]\n",
      "\n",
      " [[1030    3]\n",
      "  [   1   50]]\n",
      "\n",
      " [[ 957    1]\n",
      "  [   2  124]]\n",
      "\n",
      " [[ 769    1]\n",
      "  [   3  311]]\n",
      "\n",
      " [[ 444    1]\n",
      "  [   4  635]]\n",
      "\n",
      " [[ 966    0]\n",
      "  [   3  115]]\n",
      "\n",
      " [[1044    0]\n",
      "  [   0   40]]\n",
      "\n",
      " [[ 989    0]\n",
      "  [   0   95]]\n",
      "\n",
      " [[ 642    2]\n",
      "  [   5  435]]\n",
      "\n",
      " [[ 913    0]\n",
      "  [   2  169]]\n",
      "\n",
      " [[ 989    0]\n",
      "  [   0   95]]\n",
      "\n",
      " [[1035    0]\n",
      "  [   0   49]]\n",
      "\n",
      " [[ 635    4]\n",
      "  [   1  444]]\n",
      "\n",
      " [[ 983    1]\n",
      "  [   1   99]]\n",
      "\n",
      " [[ 970    1]\n",
      "  [   1  112]]\n",
      "\n",
      " [[1011    0]\n",
      "  [   0   73]]\n",
      "\n",
      " [[ 493    2]\n",
      "  [   5  584]]\n",
      "\n",
      " [[ 644    4]\n",
      "  [   2  434]]\n",
      "\n",
      " [[ 176    0]\n",
      "  [   5  903]]\n",
      "\n",
      " [[ 832    1]\n",
      "  [   2  249]]\n",
      "\n",
      " [[1009    0]\n",
      "  [   1   74]]\n",
      "\n",
      " [[1066    0]\n",
      "  [   0   18]]\n",
      "\n",
      " [[ 401    1]\n",
      "  [   4  678]]\n",
      "\n",
      " [[1022    3]\n",
      "  [   0   59]]\n",
      "\n",
      " [[ 482    0]\n",
      "  [   0  602]]\n",
      "\n",
      " [[ 702    1]\n",
      "  [   0  381]]\n",
      "\n",
      " [[ 978    0]\n",
      "  [   1  105]]\n",
      "\n",
      " [[1041    0]\n",
      "  [   0   43]]\n",
      "\n",
      " [[ 437    7]\n",
      "  [   8  632]]\n",
      "\n",
      " [[1052    1]\n",
      "  [   2   29]]\n",
      "\n",
      " [[1031    1]\n",
      "  [   0   52]]\n",
      "\n",
      " [[ 902    2]\n",
      "  [   5  175]]]\n",
      "\n",
      "\n"
     ]
    },
    {
     "name": "stderr",
     "output_type": "stream",
     "text": [
      "/usr/local/lib/python3.10/dist-packages/sklearn/metrics/_classification.py:1531: UndefinedMetricWarning: Jaccard is ill-defined and being set to 0.0 in samples with no true or predicted labels. Use `zero_division` parameter to control this behavior.\n",
      "  _warn_prf(average, modifier, f\"{metric.capitalize()} is\", len(result))\n",
      "/usr/local/lib/python3.10/dist-packages/sklearn/metrics/_classification.py:1531: UndefinedMetricWarning: Precision is ill-defined and being set to 0.0 in samples with no predicted labels. Use `zero_division` parameter to control this behavior.\n",
      "  _warn_prf(average, modifier, f\"{metric.capitalize()} is\", len(result))\n",
      "/usr/local/lib/python3.10/dist-packages/sklearn/metrics/_classification.py:1531: UndefinedMetricWarning: Recall is ill-defined and being set to 0.0 in samples with no true labels. Use `zero_division` parameter to control this behavior.\n",
      "  _warn_prf(average, modifier, f\"{metric.capitalize()} is\", len(result))\n",
      "/usr/local/lib/python3.10/dist-packages/sklearn/metrics/_classification.py:1531: UndefinedMetricWarning: F-score is ill-defined and being set to 0.0 in samples with no true nor predicted labels. Use `zero_division` parameter to control this behavior.\n",
      "  _warn_prf(average, modifier, f\"{metric.capitalize()} is\", len(result))\n"
     ]
    }
   ],
   "source": [
    "import pandas as pd\n",
    "import numpy as np\n",
    "from sklearn.feature_selection import SelectKBest, chi2\n",
    "from sklearn.model_selection import train_test_split\n",
    "from sklearn.metrics import (classification_report, recall_score, hamming_loss, jaccard_score,\n",
    "                             multilabel_confusion_matrix, f1_score, precision_score, accuracy_score,\n",
    "                             zero_one_loss)\n",
    "from xgboost import XGBClassifier\n",
    "from skmultilearn.problem_transform import LabelPowerset\n",
    "from functools import reduce\n",
    "import time\n",
    "\n",
    "# Store execution times for each value of k\n",
    "execution_data = []\n",
    "\n",
    "# Get column names for X\n",
    "column_names = df.columns[1:-11].tolist()\n",
    "label_names = y.columns.tolist()\n",
    "\n",
    "# Function to evaluate the model\n",
    "def evaluate_model(X_test_selected, y_test, model_name):\n",
    "\n",
    "    lb_predictions = lb_model.predict(X_test_selected)\n",
    "\n",
    "    print(f\"Evaluating {model_name}\")\n",
    "    print(f\"Accuracy: {accuracy_score(y_test, lb_predictions)}\")\n",
    "    print(f\"Macro F1 Score: {f1_score(y_test, lb_predictions, average='macro')}\")\n",
    "    print(f\"Weighted F1 score: {f1_score(y_test, lb_predictions, average='weighted')}\")\n",
    "    print(f\"Micro F1 score: {f1_score(y_test, lb_predictions, average='micro')}\")\n",
    "    print(f\"Macro Precision: {precision_score(y_test, lb_predictions, average='macro')}\")\n",
    "    print(f\"Weighted Precision: {precision_score(y_test, lb_predictions, average='weighted')}\")\n",
    "    print(f\"Micro Precision: {precision_score(y_test, lb_predictions, average='micro')}\")\n",
    "    print(f\"Macro Recall: {recall_score(y_test, lb_predictions, average='macro')}\")\n",
    "    print(f\"Weighted Recall: {recall_score(y_test, lb_predictions, average='weighted')}\")\n",
    "    print(f\"Micro Recall: {recall_score(y_test, lb_predictions, average='micro')}\")\n",
    "    print(f\"Hamming Loss: {hamming_loss(y_test, lb_predictions)}\")\n",
    "    print(f\"Zero One Loss: {zero_one_loss(y_test, lb_predictions)}\")\n",
    "    print(f\"Jaccard Similarity: {jaccard_score(y_test, lb_predictions, average='samples')}\")\n",
    "    print(f\"Classification Report:\\n{classification_report(y_test, lb_predictions, target_names=label_names)}\")\n",
    "    print(f\"Multilabel Confusion Matrix:\\n{multilabel_confusion_matrix(y_test, lb_predictions)}\")\n",
    "    print(\"\\n\")\n",
    "\n",
    "\n",
    "original_sample_count = len(y)\n",
    "percentage =100\n",
    "\n",
    "n_sample = calculate_n_sample(y, target_percentage=percentage, max_samples=original_sample_count)\n",
    "\n",
    "# Apply MLSMOTE to generate augmented data\n",
    "X_res, y_res = MLSMOTE(X_sub, y_sub, n_sample)\n",
    "\n",
    "X_aug=pd.concat([X, X_res], axis=0)\n",
    "y_aug=pd.concat([y, y_res], axis=0)\n",
    "\n",
    "X_train, X_test, y_train, y_test = train_test_split(X_aug, y_aug, test_size=0.2, random_state=42)\n",
    "X_train_selected = X_train.loc[:, features]\n",
    "X_test_selected = X_test.loc[:, features]\n",
    "\n",
    "# Convert selected features to NumPy arrays\n",
    "X_train_selected = X_train_selected.values  # Convert to NumPy array\n",
    "X_test_selected = X_test_selected.values    # Convert to NumPy array\n",
    "\n",
    "lb_model = LabelPowerset(XGBClassifier(gamma=0,learning_rate=0.3,max_depth=6,n_estimators=100,random_state=42))\n",
    "lb_model.fit(X_train_selected, y_train)\n",
    "evaluate_model(X_test_selected, y_test, \"Label Powerset\")\n",
    "\n",
    "\n",
    "\n"
   ]
  },
  {
   "cell_type": "markdown",
   "metadata": {
    "id": "XVNb1q2goOe9"
   },
   "source": [
    "# SHAP Explanation"
   ]
  },
  {
   "cell_type": "code",
   "execution_count": 10,
   "metadata": {
    "executionInfo": {
     "elapsed": 6268,
     "status": "ok",
     "timestamp": 1731892847387,
     "user": {
      "displayName": "Dincy R Arikkat",
      "userId": "15109632961724134248"
     },
     "user_tz": -330
    },
    "id": "Zen8sg_r7NK7"
   },
   "outputs": [],
   "source": [
    "import shap\n",
    "\n",
    "# Extract the base classifier from LabelPowerset\n",
    "base_model = lb_model.classifier\n",
    "\n",
    "# Create a SHAP explainer with the base model\n",
    "explainer = shap.Explainer(base_model, X_train_selected)\n",
    "\n",
    "\n",
    "\n"
   ]
  },
  {
   "cell_type": "code",
   "execution_count": 11,
   "metadata": {
    "colab": {
     "base_uri": "https://localhost:8080/"
    },
    "executionInfo": {
     "elapsed": 12636627,
     "status": "ok",
     "timestamp": 1731905484009,
     "user": {
      "displayName": "Dincy R Arikkat",
      "userId": "15109632961724134248"
     },
     "user_tz": -330
    },
    "id": "0gxwhY4mP706",
    "outputId": "011baa1f-889c-4242-982f-bac5cdd74505"
   },
   "outputs": [
    {
     "name": "stderr",
     "output_type": "stream",
     "text": [
      "100%|===================| 117071/117072 [210:21<00:00]       "
     ]
    }
   ],
   "source": [
    "# Calculate SHAP values\n",
    "shap_values = explainer(X_test_selected)"
   ]
  },
  {
   "cell_type": "code",
   "execution_count": 12,
   "metadata": {
    "executionInfo": {
     "elapsed": 33028,
     "status": "ok",
     "timestamp": 1731905517027,
     "user": {
      "displayName": "Dincy R Arikkat",
      "userId": "15109632961724134248"
     },
     "user_tz": -330
    },
    "id": "FjJftBvQz3OY"
   },
   "outputs": [],
   "source": [
    "import pickle\n",
    "\n",
    "# Save the SHAP values to a file using pickle\n",
    "with open('/content/drive/MyDrive/DroidTTP/xai/xai_after_feature_selection_MLSMOTE/technique/technique_shap_values.pkl', 'wb') as f:\n",
    "    pickle.dump(shap_values, f)\n"
   ]
  },
  {
   "cell_type": "code",
   "execution_count": null,
   "metadata": {
    "id": "0GNw678HnzYX"
   },
   "outputs": [],
   "source": [
    "import pickle\n",
    "import shap\n",
    "# Load the SHAP values from the pickle file\n",
    "with open('technique_shap_values.pkl', 'rb') as f:\n",
    "    shap_values = pickle.load(f)"
   ]
  },
  {
   "cell_type": "code",
   "execution_count": 16,
   "metadata": {
    "colab": {
     "base_uri": "https://localhost:8080/",
     "height": 1000,
     "output_embedded_package_id": "1Yl41wPP4sAL-zTojSFXT-POtd4V2i5fJ"
    },
    "executionInfo": {
     "elapsed": 48577,
     "status": "ok",
     "timestamp": 1731906418087,
     "user": {
      "displayName": "Dincy R Arikkat",
      "userId": "15109632961724134248"
     },
     "user_tz": -330
    },
    "id": "9MBPCTFntNbj",
    "outputId": "9c55add7-11d0-4c15-aa88-89d7d9df3bfd"
   },
   "outputs": [
    {
     "data": {
      "text/plain": [
       "Output hidden; open in https://colab.research.google.com to view."
      ]
     },
     "metadata": {},
     "output_type": "display_data"
    }
   ],
   "source": [
    "import matplotlib.pyplot as plt  # Import matplotlib for plotting\n",
    "# Plot SHAP summary plot for each label separately\n",
    "for i in range(len(label_names)):\n",
    "    print(f\"SHAP summary plot for label {label_names[i]}\")\n",
    "\n",
    "    # Extract SHAP values for the current label\n",
    "    shap_values_label = shap_values[:, :, i]  # Select SHAP values corresponding to the i-th label\n",
    "\n",
    "    # Plot the SHAP summary plot for this label\n",
    "    shap.summary_plot(shap_values_label, X_test_selected, feature_names=X.columns.tolist(), show=False, max_display=10)\n",
    "\n",
    "    # Increase the font size of x-ticks and y-ticks and make them bold\n",
    "    plt.xticks(fontsize=18, fontweight='bold')  # Adjust the font size and weight of x-ticks\n",
    "    plt.yticks(fontsize=18, fontweight='bold')  # Adjust the font size and weight of y-ticks\n",
    "\n",
    "    # Increase the font size of x-axis title and make it bold\n",
    "    plt.xlabel(plt.gca().get_xlabel(), fontsize=14, fontweight='bold')\n",
    "\n",
    "    plt.show()\n",
    "\n",
    "\n"
   ]
  }
 ],
 "metadata": {
  "colab": {
   "authorship_tag": "ABX9TyNYvy20OIfdAoti8MKxL7s9",
   "provenance": []
  },
  "kernelspec": {
   "display_name": "Python 3",
   "name": "python3"
  },
  "language_info": {
   "name": "python"
  }
 },
 "nbformat": 4,
 "nbformat_minor": 0
}
